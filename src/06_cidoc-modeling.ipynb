{
 "cells": [
  {
   "cell_type": "markdown",
   "id": "ee37ec24-7b9f-403e-9701-b610f9c8ab4a",
   "metadata": {},
   "source": [
    "# Modelling Provenance and Reasoning with CIDOC-CRM\n",
    "\n",
    "When we use SKOS to model the genre systems we can only record \"one opinion\". It is like a static view of the system. The data reflects the interpretation of a certain individual or a group (me and Peer), e.g Peer sent me a list of terms in a yaml-ish format which I then converted to SKOS (withot looking in the actual source). This whole genesis of the genesis of the SKOS in the first place is lost. What is also lost: How and why I created the mappings of some of the concepts across the different skos:ConceptSchemes. The logic behind this is partly included in the notebooks 03-05. The process becomes transparent there but is not evident from the actual SKOS. It could also be the case that Peer would have a diverging opinion about the mappings: I tried to use string identity or similarity as a base for the `skos:closeMatch` statements, but of course there were some false positives, e.g. `Ode` and `Oper` when using a Levenshtein Edit Distance of 2 (`d` substituted by `p`, `r` added; with weights of 1 per operation this amounts to an edit distance of 2). I needed two because the case of different spellings of a-Umlaut (ä) would result in a Levenshtein Distance of 2. What I am trying to convey: There are automatic processes involved when mapping the concepts, but also manual decisions and this all goes into the final SKOS. \n",
    "\n",
    "In this notebook we try to be more transparent about the genesis of and the rationale behind a single `skos:ConceptScheme` and it's mappings to others. We test out severals ways of modeling with CIDOC-CRM. Ultimately the goal could be a system that does self-documentation when creating the \"Genre System SKOS representation\"."
   ]
  },
  {
   "cell_type": "markdown",
   "id": "2f93a54b-8ccb-4490-8c69-63138df40f48",
   "metadata": {},
   "source": [
    "The following sections discuss some of the aspects of a prospective data model based on CIDOC and its extensions."
   ]
  },
  {
   "cell_type": "markdown",
   "id": "8ec664d4-97f5-4069-a202-1ea0e282a783",
   "metadata": {},
   "source": [
    "## Interpreting the source when creating a ConceptScheme\n",
    "\n",
    "This means: modeling the Bibliographic Metadata. In the SKOS this information is only included as `rdfs:label` on the `skos:ConceptScheme`. There would probably be other options to include this is a more structured or at least machine-readable/semantic way, e.g. by also usign Dublin Core. //TODO: add example.\n",
    "\n",
    "In the CIDOC-world we would use classes and properties of an extension used for bibliographic/library data; we use LRMoo.\n",
    "\n"
   ]
  },
  {
   "cell_type": "markdown",
   "id": "8d44f958-ebf3-4482-bb62-500680448036",
   "metadata": {},
   "source": [
    "![image](./img/01_bibl_skos_concept.png)"
   ]
  },
  {
   "cell_type": "markdown",
   "id": "dc23e4b5-4db3-4c7f-a94e-5acddf9ce6dc",
   "metadata": {},
   "source": [
    "How can we now connect the `skos:Concept` (which is an `crm:E55_Type`) and the `skos:ConceptScheme` (`crm:E32_Authority_Document`)?\n",
    "(Property to connect E32 to E55 is P71 lists; equivalent to the inverse of skos:inScheme)."
   ]
  },
  {
   "cell_type": "markdown",
   "id": "b21182fa-37b5-429b-adb6-e2571a8e2ad6",
   "metadata": {},
   "source": [
    "We could say that there is an Conceptual Object (the concept \"Äsopische Fabel\") as Bouterwek understands and defines it in his work. He does this is his text (the Expression as a realization of his Work at a certain point in time). We try to understand his conception of the concept and include it in the SKOS. \n",
    "There might also be a second Conceptual Object here: Bouterwek's \"idea\" of the Genre system that he describes in his Work. \n",
    "\n",
    "The skos:Concept is \"our\" understanding of his idea about the \"Äsopische Fabel\"; and the skos:ConceptScheme is our understanding of his idea of the Genre System that he describes.\n",
    "\n",
    "If we take only the F2 Expression for starters and look at the ways in which we derive at the first draft of the skos:ConceptScheme we might be able to make this process transparent and model it in its complexity."
   ]
  },
  {
   "cell_type": "markdown",
   "id": "60de1442-0b78-4b3d-a7a1-9036084f0661",
   "metadata": {},
   "source": [
    "![image](./img/02_f2_to_concept_generic.png)"
   ]
  },
  {
   "cell_type": "markdown",
   "id": "5b8876d6-f566-498b-ae07-b4a61e026fef",
   "metadata": {},
   "source": [
    "On the most general level we created a type and based it on the text of Bouterwek.\n",
    "\n",
    "We could try to be more specific here: On which parts of the text is the concept based? This could be a Linguistic Object (a part of the text; or the abstract concept of Bouterwek as we distill it from the text.) We can test both. `P136` is quite flexible: it has the range of `crm:E1 Entity` meaning it can point to anything. Therefore it might make sense to use some form of reification to make the relation `was based on` more specific."
   ]
  },
  {
   "cell_type": "markdown",
   "id": "cafcc6e3-d9dd-4dd8-81c5-6b6c3257af3a",
   "metadata": {},
   "source": [
    "A more detailed description of the relation between the `skos:Concept` and `crm:E83_Type_Creation` could involve introducing the genre as described or defined by Bouterwek in the `F2 Expression` (the Text). A candidate property would be `crm: P148 has component` that connects two `crm:E89 Propositional Object`. We still have to contemplate if the Thing \"Äsopische Fabel\" as described and defined by Bouterwerk can be best understood as a \"Propositional Object\":\n",
    "\n",
    "> This class [Propositional Object, IB.] comprises immaterial items, including but not limited to stories, plots, procedural\n",
    "prescriptions, algorithms, laws of physics or images that are, or represent in some sense, sets of\n",
    "propositions about real or imaginary things and that are documented as single units or serve as\n",
    "topic of discourse.\n",
    "This class also comprises items that are “about” something in the sense of a subject. In the\n",
    "wider sense, this class includes expressions of psychological value such as non-figural art and\n",
    "musical themes. However, conceptual items such as types and classes are not instances of E89\n",
    "Propositional Object. This should not be confused with the definition of a type, which is\n",
    "indeed an instance of E89 Propositional Object.\n",
    "\n",
    "I would argue that we capture herewith the statements/assertions (propositions?) by Bouterwek about a concept, i.e. the \"äsopische Fabel\" which, might not be a \"Propositional Object\" but rather on the level of `lrm:F1 Work`, i.e. a \"Conceptual Object\"(? need to further think about that)."
   ]
  },
  {
   "cell_type": "markdown",
   "id": "c62e994f-01f4-45d3-889d-adfbb14b95d2",
   "metadata": {},
   "source": [
    "![image](./img/03_f2_connected_via_propositions_about_concept.png)"
   ]
  },
  {
   "cell_type": "markdown",
   "id": "0140c411-0762-4497-b755-2c9851eed1de",
   "metadata": {},
   "source": [
    "The relation to the Concept (Genre) in the unterstanding of Bouterwerk could be modeled as such:"
   ]
  },
  {
   "cell_type": "markdown",
   "id": "be46643e-4386-45c4-960c-62063a9ddfea",
   "metadata": {},
   "source": [
    "![image](./img/04_general_understanding_of_a_genre.png)"
   ]
  },
  {
   "cell_type": "markdown",
   "id": "e8e6edd7-9c3e-4071-bce2-50555d99ef7e",
   "metadata": {},
   "source": [
    "> Macht das Sinn für dich: Bouterweks Text enthält Aussagen (Propositional Object) über das, was er sich unter \"Äsopischer Fabel\" vorstellt (Conceptual Object). Diese \"Idee\" von Bouterwek repräsentiert auf unbestimmten Grad eine \"intersubjektive Vorstellung\" (brauch da besseren Begriff) von der \"Äsopischen Fabel\".\n",
    "> Meinst du, man kann sowas wie den \"common sense\" von einer Gattung annehmen? Sowas wie ein generelles Verständnis davon, was die eine oder andere Gattung ist? Das ist natürlich schwierig, weil wohl eher eine philosophische Frage oder? Man könnte ja auch sagen, dass es das nicht gibt, sondern dass es eben diskursiv durch eben solche Arbeiten wie Bouterwek hervorgebracht wird. Dann kann ich es aber trotzdem addressierbar machen, oder?\n",
    "> Das \"Ding\" ist aber auch jedenfalls nicht statisch oder klar abgegrenzt, das Verständnis davon, was eine Gattung ist, ist ja auch historisch bedingt... Die historische und subjektive Auffassung ist aber eh erfasst mit dem Conceptual Object (Äsopische Fabel as understood by B.)? Reicht sowas aus um die Dynamik des Konzepts (\"common understanding\") auszudrücken?\n",
    "> Aus meiner Sicht wäre nämlich so ein Modell recht hilfreich, weil ich über den Knoten (\"common understanding\") die unterschiedlichen Gattungssysteme in Beziehung setzen kann"
   ]
  },
  {
   "cell_type": "markdown",
   "id": "6153af1e-7384-4456-8259-6dc2fd319996",
   "metadata": {},
   "source": [
    "![image](./img/05_linking_concepts_cidoc.png)"
   ]
  },
  {
   "cell_type": "markdown",
   "id": "e613c8ea-22fb-4b46-a3b3-aa9b992b79b4",
   "metadata": {},
   "source": [
    "We consider the \"common understanding\" node problematic for theoretical resons, because it would lead into an extensialist thinking. Instead we keep the (reconstructed by us; assumed) understandings of a genre of an individual author (\"understood by X\") in the chart above and connect these:"
   ]
  },
  {
   "cell_type": "markdown",
   "id": "dd0d6e02-2ae1-4009-b29b-6118fff9f771",
   "metadata": {},
   "source": [
    "![image](./img/06_charts-connections_of_concepts_of_individual_authors.png)"
   ]
  },
  {
   "cell_type": "markdown",
   "id": "db727dab-c083-4613-b58b-64f2b7478240",
   "metadata": {},
   "source": [
    "This \"linking\" (we say: one concept is similar in some sense to another) can be recorded as an attribute assignement (`crm:E13_Attribute_Assignment`):"
   ]
  },
  {
   "cell_type": "markdown",
   "id": "8f472147-95f3-4c9f-8302-199e2d496354",
   "metadata": {},
   "source": [
    "![image](./img/07_shows_features_of_as_atttribute_assignment.png)"
   ]
  },
  {
   "cell_type": "markdown",
   "id": "80bd69a5-bbc3-44ad-9169-02892bb7d40f",
   "metadata": {},
   "source": [
    "We can not use skos:closeMatch as the range of `P177` because the range should be an E55 Type. For the properties defined in the CIDOC-CRM this is the case:\n",
    "> Note that the properties defined by the CIDOC CRM also constitute instances of E55 Type themselves.\n",
    "\n",
    "If we wanted to be more specific in the Attribute assignement we could define E55 Types of the similarities of these concepts. This could be an open list."
   ]
  },
  {
   "cell_type": "markdown",
   "id": "c194705a-79d1-4170-812e-2204682cbf37",
   "metadata": {},
   "source": [
    "Another far more complex option would be to rely on the CIDOC Argumentation Model (not too sure about that). But for reasons of comprehensiveness I note that here. If we implement that we might need additional named graphs to hold the actual argumentation. But let's see.\n",
    "[CRMinf](https://cidoc-crm.org/sites/default/files/CRMinf%20v1.0%28site%29.pdf) is still a draft; and it's difficult. I have not tried too hard to adopt it; I am lacking examples of using it in practice."
   ]
  },
  {
   "cell_type": "markdown",
   "id": "6bfa3889-27ce-439c-bccd-663685dd28e8",
   "metadata": {},
   "source": [
    "![image](./img/08_believe-argumentation_model.png)"
   ]
  },
  {
   "cell_type": "markdown",
   "id": "525c245f-bcd9-4802-be8e-736ca019ee73",
   "metadata": {},
   "source": [
    "I am not sure what can be gained from such a model."
   ]
  },
  {
   "cell_type": "markdown",
   "id": "8aa8fc88-95a3-4bb5-a334-7bb25ddc0e9f",
   "metadata": {},
   "source": [
    "Modeling Example: Schiller-plays\n",
    "\n",
    "* Bouterwek, S. 226, nennt Friedrich Schiller: \"Die Braut von Messina\" als Beispiel für \"Das Trauerspiel\"\n",
    "* Eschenburg, S. 307 nennt die \"Trauerspiele\" von Friedrich Schiller als besondere Beispiel für Trauerspiele der Deutschen\""
   ]
  },
  {
   "cell_type": "markdown",
   "id": "5ed63dfe-6ff0-42b9-a615-d10e845efd1b",
   "metadata": {},
   "source": [
    "![image](./img/09_bouterwek_eschenburg_schiller_plays.png)"
   ]
  },
  {
   "cell_type": "markdown",
   "id": "fd551d9b-2481-49ca-9442-a65beae4974d",
   "metadata": {},
   "source": [
    "Das ist aber eine sehr verkürzte Darstellung...\n",
    "By using \"Belief\" for Bouterwek's statement that Die Braut von Messina is a \"Trauerspiel\" (Bouterwek holds the belief that...)"
   ]
  },
  {
   "cell_type": "markdown",
   "id": "7072054d-7dc2-4b81-87c4-4c55693435b2",
   "metadata": {},
   "source": [
    "![image](./img/10_bouterwek_belief.png)"
   ]
  },
  {
   "cell_type": "markdown",
   "id": "cee51938-3746-497f-a3b3-5f1c4fb9a4d1",
   "metadata": {},
   "source": [
    "Not sure how this would work for Eschenburg:\n",
    "> die \"Trauerspiele\" von Friedrich Schiller als besondere Beispiel für Trauerspiele der Deutschen\""
   ]
  },
  {
   "cell_type": "markdown",
   "id": "48c1b495-ec31-40e3-ac2e-4ee3c866f57c",
   "metadata": {},
   "source": [
    "Maybe use Attribute Assignments to record the Statements? This does not work well for Eschenburg:"
   ]
  },
  {
   "cell_type": "markdown",
   "id": "3b1584ed-5972-4bdc-b45e-7009d6538d18",
   "metadata": {},
   "source": [
    "![image](./img/11_eschenbug_bouterwek_schiller_example.png)"
   ]
  },
  {
   "cell_type": "markdown",
   "id": "8f87b0b8-cd3b-4393-aada-1b8b32ec7a24",
   "metadata": {},
   "source": [
    "Maybe use a fictitious example in which two authors apply a concept with a similar label to the same work. And then say, we don't have this ideal case, but messy stuff like the graph above (which is also not really correct, because actually Eschenburg does not mention \"Die Braut von Messina\" but \"Trauerspiele von Friedrich Schiller\"."
   ]
  },
  {
   "cell_type": "code",
   "execution_count": null,
   "id": "b5a7d62c-d9b0-413c-bdb8-ce74a1500afc",
   "metadata": {},
   "outputs": [],
   "source": []
  }
 ],
 "metadata": {
  "kernelspec": {
   "display_name": "Python 3 (ipykernel)",
   "language": "python",
   "name": "python3"
  },
  "language_info": {
   "codemirror_mode": {
    "name": "ipython",
    "version": 3
   },
   "file_extension": ".py",
   "mimetype": "text/x-python",
   "name": "python",
   "nbconvert_exporter": "python",
   "pygments_lexer": "ipython3",
   "version": "3.11.3"
  }
 },
 "nbformat": 4,
 "nbformat_minor": 5
}
