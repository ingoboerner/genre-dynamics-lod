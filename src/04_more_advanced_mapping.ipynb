{
 "cells": [
  {
   "cell_type": "markdown",
   "id": "7f2b3a07-528f-4281-92c1-4eafaf6e3dec",
   "metadata": {},
   "source": [
    "# Little bit more advanced mapping techniques\n",
    "\n",
    "In the other notebook we mapped the concepts of Bouterwek, Eschenburg and Goethe based on a string comparison. When the strings exactly matched we created a `skos:closeMatch`. \n",
    "Obviously this 1:1 string comparison is not really robust. There are cases of spelling variation (\"Äsopische Fabel\"/\"Aesopische Fabel\") that are not matched. There are also multi word expressions which do not match to the single word label of a probably correspondig concept.\n",
    "For these two scenarios we will develop mapping mechanisms:\n",
    "\n",
    "* string containment: we look if a string of concept A is included in the string of concept B and vice versa. This should help identifying candidates where multi-word expressions as the label of a term map to single word terms.\n",
    "* edit distance: we will use levenshtein distance and try to find spelling variations of single term labels.\n",
    "\n",
    "We would probably have to combine these approaches into a matching algorithm at some later stage"
   ]
  },
  {
   "cell_type": "code",
   "execution_count": 1,
   "id": "cb03e3d0-3e9b-49d5-b312-1751f6fc2410",
   "metadata": {},
   "outputs": [
    {
     "name": "stdout",
     "output_type": "stream",
     "text": [
      "bouterwek_terms.json\n",
      "eschenburg_terms.json\n",
      "goethe_dichtarten_terms.json\n"
     ]
    }
   ],
   "source": [
    "!ls out | grep terms"
   ]
  },
  {
   "cell_type": "code",
   "execution_count": 2,
   "id": "6113d59a-f191-450e-aede-76b8a6051bf8",
   "metadata": {},
   "outputs": [],
   "source": [
    "def load_terms(filename:str):\n",
    "    filepath = \"out/\" + filename\n",
    "    \n",
    "    with open(filepath, \"r\") as f:\n",
    "        parsed = json.load(f)\n",
    "\n",
    "    return parsed"
   ]
  },
  {
   "cell_type": "code",
   "execution_count": 3,
   "id": "4f38a746-a42b-439f-ac02-c410bef6a33f",
   "metadata": {},
   "outputs": [],
   "source": [
    "import json\n",
    "# load the terms from file\n",
    "bouterwek_terms = load_terms(\"bouterwek_terms.json\")\n",
    "eschenburg_terms = load_terms(\"eschenburg_terms.json\")\n",
    "goethe_terms = load_terms(\"goethe_dichtarten_terms.json\") # drop the dichtarten in the name!"
   ]
  },
  {
   "cell_type": "markdown",
   "id": "cfab90ff-9d14-4e18-a4ae-fcd52c1e2662",
   "metadata": {},
   "source": [
    "## String containment"
   ]
  },
  {
   "cell_type": "code",
   "execution_count": 4,
   "id": "3d5e67e2-c2f2-415b-9dba-7b01ef6caa47",
   "metadata": {},
   "outputs": [],
   "source": [
    "#bouterwek_terms"
   ]
  },
  {
   "cell_type": "code",
   "execution_count": 5,
   "id": "93cdf04c-b949-4209-a62b-7eace0f7a18c",
   "metadata": {},
   "outputs": [],
   "source": [
    "#eschenburg_terms"
   ]
  },
  {
   "cell_type": "code",
   "execution_count": 6,
   "id": "58e54589-8a15-4383-adaa-a4863af6c509",
   "metadata": {},
   "outputs": [],
   "source": [
    "def match_by_string_containment_brute_force(terms_1:list, terms_2:list, name_1:str, name_2:str):\n",
    "    for term_1 in terms_1:\n",
    "        for term_2 in terms_2:\n",
    "            if (term_1[\"label\"].lower() in term_2[\"label\"].lower()) or (term_2[\"label\"].lower() in term_1[\"label\"].lower()):\n",
    "                print(f\"Term {term_1['label']} ({name_1}) and {term_2['label']} ({name_2}) are mapping candidates\")     "
   ]
  },
  {
   "cell_type": "code",
   "execution_count": 7,
   "id": "2b759e98-ee31-4622-a986-aaadecc6e709",
   "metadata": {},
   "outputs": [
    {
     "name": "stdout",
     "output_type": "stream",
     "text": [
      "Term Drama (goethe) and Drama (eschenburg) are mapping candidates\n",
      "Term Drama (goethe) and Dramatische Dichtungsart (eschenburg) are mapping candidates\n",
      "Term Elegie (goethe) and Elegie (eschenburg) are mapping candidates\n",
      "Term Epigramm (goethe) and Epigramm (eschenburg) are mapping candidates\n",
      "Term Epistel (goethe) and Epistel (eschenburg) are mapping candidates\n",
      "Term Erzählung (goethe) and Allegorische Erzählung (eschenburg) are mapping candidates\n",
      "Term Erzählung (goethe) and Poetische Erzählung (eschenburg) are mapping candidates\n",
      "Term Fabel (goethe) and Aesopische Fabel (eschenburg) are mapping candidates\n",
      "Term Heroide (goethe) and Heroide (eschenburg) are mapping candidates\n",
      "Term Lehrgedicht (goethe) and Lehrgedicht (eschenburg) are mapping candidates\n",
      "Term Roman (goethe) and Roman (eschenburg) are mapping candidates\n",
      "Term Romanze (goethe) and Roman (eschenburg) are mapping candidates\n",
      "Term Satire (goethe) and Satire (eschenburg) are mapping candidates\n"
     ]
    }
   ],
   "source": [
    "match_by_string_containment_brute_force(goethe_terms, eschenburg_terms, \"goethe\", \"eschenburg\")"
   ]
  },
  {
   "cell_type": "code",
   "execution_count": 8,
   "id": "eba2a2fc-1323-4920-bf3c-7919809522a0",
   "metadata": {},
   "outputs": [
    {
     "name": "stdout",
     "output_type": "stream",
     "text": [
      "Term Drama (eschenburg) and Dramatische Dichtungsart (bouterwek) are mapping candidates\n",
      "Term Elegie (eschenburg) and Elegie (bouterwek) are mapping candidates\n",
      "Term Epigramm (eschenburg) and Epigramm (bouterwek) are mapping candidates\n",
      "Term Hirtengedicht (eschenburg) and Das Hirtengedicht und die idyllische Poesie (bouterwek) are mapping candidates\n",
      "Term Lustspiel (eschenburg) and Lustspiel (bouterwek) are mapping candidates\n",
      "Term Oper (eschenburg) and Oper (bouterwek) are mapping candidates\n",
      "Term Roman (eschenburg) and Epische Romanze (bouterwek) are mapping candidates\n",
      "Term Roman (eschenburg) and Roman (bouterwek) are mapping candidates\n",
      "Term Roman (eschenburg) and Romantische Canzone (bouterwek) are mapping candidates\n",
      "Term Trauerspiel (eschenburg) and Trauerspiel (bouterwek) are mapping candidates\n",
      "Term Epistel (eschenburg) and Didaktische Epistel (bouterwek) are mapping candidates\n",
      "Term Epistel (eschenburg) and Lyrische Epistel (bouterwek) are mapping candidates\n",
      "Term Lehrgedicht (eschenburg) and Lehrgedicht (bouterwek) are mapping candidates\n",
      "Term Dramatische Dichtungsart (eschenburg) and Dramatische Dichtungsart (bouterwek) are mapping candidates\n",
      "Term Epische Dichtungsart (eschenburg) and Epische Dichtungsart (bouterwek) are mapping candidates\n"
     ]
    }
   ],
   "source": [
    "match_by_string_containment_brute_force(eschenburg_terms, bouterwek_terms, \"eschenburg\", \"bouterwek\")"
   ]
  },
  {
   "cell_type": "code",
   "execution_count": 9,
   "id": "d72a8edf-c149-42a4-a008-2aa53e0a6ca0",
   "metadata": {},
   "outputs": [
    {
     "name": "stdout",
     "output_type": "stream",
     "text": [
      "Term Ballade (goethe) and Ballade (bouterwek) are mapping candidates\n",
      "Term Drama (goethe) and Dramatische Dichtungsart (bouterwek) are mapping candidates\n",
      "Term Elegie (goethe) and Elegie (bouterwek) are mapping candidates\n",
      "Term Epigramm (goethe) and Epigramm (bouterwek) are mapping candidates\n",
      "Term Epistel (goethe) and Didaktische Epistel (bouterwek) are mapping candidates\n",
      "Term Epistel (goethe) and Lyrische Epistel (bouterwek) are mapping candidates\n",
      "Term Epopöe (goethe) and Epopöe (bouterwek) are mapping candidates\n",
      "Term Fabel (goethe) and Äsopische Fabel (bouterwek) are mapping candidates\n",
      "Term Lehrgedicht (goethe) and Lehrgedicht (bouterwek) are mapping candidates\n",
      "Term Ode (goethe) and Ode (bouterwek) are mapping candidates\n",
      "Term Roman (goethe) and Epische Romanze (bouterwek) are mapping candidates\n",
      "Term Roman (goethe) and Roman (bouterwek) are mapping candidates\n",
      "Term Roman (goethe) and Romantische Canzone (bouterwek) are mapping candidates\n",
      "Term Romanze (goethe) and Epische Romanze (bouterwek) are mapping candidates\n",
      "Term Romanze (goethe) and Roman (bouterwek) are mapping candidates\n"
     ]
    }
   ],
   "source": [
    "match_by_string_containment_brute_force(goethe_terms, bouterwek_terms, \"goethe\", \"bouterwek\")"
   ]
  },
  {
   "cell_type": "markdown",
   "id": "22f4b6bc-bea0-4f94-a876-9617dcda7eb3",
   "metadata": {},
   "source": [
    "This for sure needs some manual intervention. Actually I don't want to do it in the cases we have both single word expressions. Only in the cases where there are a single word and a multi-word expression compared. I will re-write the function below and leave the results above here for reference. \n"
   ]
  },
  {
   "cell_type": "code",
   "execution_count": 10,
   "id": "182b9be6-2c5e-4e45-bd70-d172a0821b9b",
   "metadata": {},
   "outputs": [],
   "source": [
    "def match_by_string_containment(terms_1:list, terms_2:list, name_1:str, name_2:str):\n",
    "    for term_1 in terms_1:\n",
    "        for term_2 in terms_2:\n",
    "            # only check if one of the terms is a multi-word expression. \n",
    "            # This is not perfect, because I check for leerzeichen.. Maybe regex would be better, but for testing this is enough here\n",
    "            # We won't compare two multi-word expressions\n",
    "            if (\" \" in term_1[\"label\"]) or (\" \" in term_2[\"label\"]):\n",
    "\n",
    "                # don't go on  if the multi-word expressions are exact matches\n",
    "                if term_1[\"label\"].lower() == term_2[\"label\"].lower():\n",
    "                    break\n",
    "            \n",
    "                if (term_1[\"label\"].lower() in term_2[\"label\"].lower()) or (term_2[\"label\"].lower() in term_1[\"label\"].lower()):\n",
    "                    print(f\"Term {term_1['label']} ({name_1}) and {term_2['label']} ({name_2}) are mapping candidates\") "
   ]
  },
  {
   "cell_type": "code",
   "execution_count": 11,
   "id": "0e1764c1-24e4-4ed4-8eee-96b253711188",
   "metadata": {},
   "outputs": [
    {
     "name": "stdout",
     "output_type": "stream",
     "text": [
      "Term Drama (goethe) and Dramatische Dichtungsart (eschenburg) are mapping candidates\n",
      "Term Erzählung (goethe) and Allegorische Erzählung (eschenburg) are mapping candidates\n",
      "Term Erzählung (goethe) and Poetische Erzählung (eschenburg) are mapping candidates\n",
      "Term Fabel (goethe) and Aesopische Fabel (eschenburg) are mapping candidates\n"
     ]
    }
   ],
   "source": [
    "match_by_string_containment(goethe_terms, eschenburg_terms, \"goethe\", \"eschenburg\")"
   ]
  },
  {
   "cell_type": "code",
   "execution_count": 12,
   "id": "f54dc969-0a60-4feb-8ea0-b5263b5ac111",
   "metadata": {},
   "outputs": [
    {
     "name": "stdout",
     "output_type": "stream",
     "text": [
      "Term Drama (goethe) and Dramatische Dichtungsart (bouterwek) are mapping candidates\n",
      "Term Epistel (goethe) and Didaktische Epistel (bouterwek) are mapping candidates\n",
      "Term Epistel (goethe) and Lyrische Epistel (bouterwek) are mapping candidates\n",
      "Term Fabel (goethe) and Äsopische Fabel (bouterwek) are mapping candidates\n",
      "Term Roman (goethe) and Epische Romanze (bouterwek) are mapping candidates\n",
      "Term Roman (goethe) and Romantische Canzone (bouterwek) are mapping candidates\n",
      "Term Romanze (goethe) and Epische Romanze (bouterwek) are mapping candidates\n"
     ]
    }
   ],
   "source": [
    "match_by_string_containment(goethe_terms, bouterwek_terms, \"goethe\", \"bouterwek\")"
   ]
  },
  {
   "cell_type": "code",
   "execution_count": 13,
   "id": "e61c8ea1-6c0d-4d63-a47f-b4b4ca87906c",
   "metadata": {},
   "outputs": [
    {
     "name": "stdout",
     "output_type": "stream",
     "text": [
      "Term Didaktische Epistel (bouterwek) and Epistel (eschenburg) are mapping candidates\n",
      "Term Epische Romanze (bouterwek) and Roman (eschenburg) are mapping candidates\n",
      "Term Lyrische Epistel (bouterwek) and Epistel (eschenburg) are mapping candidates\n",
      "Term Das Hirtengedicht und die idyllische Poesie (bouterwek) and Hirtengedicht (eschenburg) are mapping candidates\n",
      "Term Romantische Canzone (bouterwek) and Roman (eschenburg) are mapping candidates\n",
      "Term Dramatische Dichtungsart (bouterwek) and Drama (eschenburg) are mapping candidates\n"
     ]
    }
   ],
   "source": [
    "match_by_string_containment(bouterwek_terms, eschenburg_terms, \"bouterwek\", \"eschenburg\")"
   ]
  },
  {
   "cell_type": "markdown",
   "id": "27f319da-8155-4648-bbbe-914ba88ae422",
   "metadata": {},
   "source": [
    "This needs to be done interactive"
   ]
  },
  {
   "cell_type": "code",
   "execution_count": 14,
   "id": "977f9e02-bf95-46a2-bb2f-b7b4c289fa86",
   "metadata": {},
   "outputs": [],
   "source": [
    "def match_by_string_containment_interactive(terms_1:list, terms_2:list, name_1:str, name_2:str):\n",
    "    results = []\n",
    "    \n",
    "    for term_1 in terms_1:\n",
    "        for term_2 in terms_2:\n",
    "            # only check if one of the terms is a multi-word expression. \n",
    "            # This is not perfect, because I check for leerzeichen.. Maybe regex would be better, but for testing this is enough here\n",
    "            # We won't compare two multi-word expressions\n",
    "            if (\" \" in term_1[\"label\"]) or (\" \" in term_2[\"label\"]):\n",
    "\n",
    "                # don't go on  if the multi-word expressions are exact matches\n",
    "                if term_1[\"label\"].lower() == term_2[\"label\"].lower():\n",
    "                    break\n",
    "            \n",
    "                if (term_1[\"label\"].lower() in term_2[\"label\"].lower()) or (term_2[\"label\"].lower() in term_1[\"label\"].lower()):\n",
    "                    print(f\"Match concepts with labels {term_1['label']} ({name_1}) and {term_2['label']} ({name_2})?\")\n",
    "                    user_assesment= input(\"y/n\")\n",
    "                    if user_assesment == \"y\":\n",
    "                        print(\"Will create mapping.\\n\")\n",
    "                        true_positive = dict()\n",
    "                        true_positive[\"term1_label\"] = term_1[\"label\"]\n",
    "                        true_positive[\"term2_label\"] = term_2[\"label\"]\n",
    "                        true_positive[\"term1_id\"] = term_1[\"id\"]\n",
    "                        true_positive[\"term2_id\"] = term_2[\"id\"]\n",
    "                        true_positive[\"term1_source\"] = name_1\n",
    "                        true_positive[\"term2_source\"] = name_2\n",
    "                        true_positive[\"user_assesment\"] = user_assesment\n",
    "                        results.append(true_positive)\n",
    "                        \n",
    "                    elif user_assesment == \"n\":\n",
    "                        print(\"Will NOT create a mapping.\\n\")\n",
    "                        false_positive = dict()\n",
    "                        false_positive[\"term1_label\"] = term_1[\"label\"]\n",
    "                        false_positive[\"term2_label\"] = term_2[\"label\"]\n",
    "                        false_positive[\"term1_id\"] = term_1[\"id\"]\n",
    "                        false_positive[\"term2_id\"] = term_2[\"id\"]\n",
    "                        false_positive[\"term1_source\"] = name_1\n",
    "                        false_positive[\"term2_source\"] = name_2\n",
    "                        false_positive[\"user_assesment\"] = user_assesment\n",
    "                        results.append(false_positive)\n",
    "                    else:\n",
    "                        print(\"Not a valid input. Will resume and don't map.\\n\")\n",
    "        \n",
    "    return results"
   ]
  },
  {
   "cell_type": "code",
   "execution_count": 15,
   "id": "55dc74db-5a78-4d52-9e9d-3756f9365300",
   "metadata": {},
   "outputs": [
    {
     "name": "stdout",
     "output_type": "stream",
     "text": [
      "Match concepts with labels Drama (goethe) and Dramatische Dichtungsart (eschenburg)?\n"
     ]
    },
    {
     "name": "stdin",
     "output_type": "stream",
     "text": [
      "y/n y\n"
     ]
    },
    {
     "name": "stdout",
     "output_type": "stream",
     "text": [
      "Will create mapping.\n",
      "\n",
      "Match concepts with labels Erzählung (goethe) and Allegorische Erzählung (eschenburg)?\n"
     ]
    },
    {
     "name": "stdin",
     "output_type": "stream",
     "text": [
      "y/n n\n"
     ]
    },
    {
     "name": "stdout",
     "output_type": "stream",
     "text": [
      "Will NOT create a mapping.\n",
      "\n",
      "Match concepts with labels Erzählung (goethe) and Poetische Erzählung (eschenburg)?\n"
     ]
    },
    {
     "name": "stdin",
     "output_type": "stream",
     "text": [
      "y/n n\n"
     ]
    },
    {
     "name": "stdout",
     "output_type": "stream",
     "text": [
      "Will NOT create a mapping.\n",
      "\n",
      "Match concepts with labels Fabel (goethe) and Aesopische Fabel (eschenburg)?\n"
     ]
    },
    {
     "name": "stdin",
     "output_type": "stream",
     "text": [
      "y/n y\n"
     ]
    },
    {
     "name": "stdout",
     "output_type": "stream",
     "text": [
      "Will create mapping.\n",
      "\n"
     ]
    }
   ],
   "source": [
    "goethe_eschenburg_matches_by_containment = match_by_string_containment_interactive(goethe_terms, eschenburg_terms, \"goethe\", \"eschenburg\")"
   ]
  },
  {
   "cell_type": "code",
   "execution_count": 16,
   "id": "c91d2af2-4bf3-430f-a50a-4f6037ff8415",
   "metadata": {},
   "outputs": [
    {
     "data": {
      "text/plain": [
       "[{'term1_label': 'Drama',\n",
       "  'term2_label': 'Dramatische Dichtungsart',\n",
       "  'term1_id': 'https://genre.clscor.io/goethe/drama',\n",
       "  'term2_id': 'https://genre.clscor.io/eschenburg/dramatische_dichtungsart',\n",
       "  'term1_source': 'goethe',\n",
       "  'term2_source': 'eschenburg',\n",
       "  'user_assesment': 'y'},\n",
       " {'term1_label': 'Erzählung',\n",
       "  'term2_label': 'Allegorische Erzählung',\n",
       "  'term1_id': 'https://genre.clscor.io/goethe/erzaehlung',\n",
       "  'term2_id': 'https://genre.clscor.io/eschenburg/allegorische_erzaehlung',\n",
       "  'term1_source': 'goethe',\n",
       "  'term2_source': 'eschenburg',\n",
       "  'user_assesment': 'n'},\n",
       " {'term1_label': 'Erzählung',\n",
       "  'term2_label': 'Poetische Erzählung',\n",
       "  'term1_id': 'https://genre.clscor.io/goethe/erzaehlung',\n",
       "  'term2_id': 'https://genre.clscor.io/eschenburg/poetische_erzaehlung',\n",
       "  'term1_source': 'goethe',\n",
       "  'term2_source': 'eschenburg',\n",
       "  'user_assesment': 'n'},\n",
       " {'term1_label': 'Fabel',\n",
       "  'term2_label': 'Aesopische Fabel',\n",
       "  'term1_id': 'https://genre.clscor.io/goethe/fabel',\n",
       "  'term2_id': 'https://genre.clscor.io/eschenburg/aesopische_fabel',\n",
       "  'term1_source': 'goethe',\n",
       "  'term2_source': 'eschenburg',\n",
       "  'user_assesment': 'y'}]"
      ]
     },
     "execution_count": 16,
     "metadata": {},
     "output_type": "execute_result"
    }
   ],
   "source": [
    "goethe_eschenburg_matches_by_containment"
   ]
  },
  {
   "cell_type": "code",
   "execution_count": 44,
   "id": "32f32379-9254-4e1c-b493-280ea3e96051",
   "metadata": {},
   "outputs": [
    {
     "name": "stdout",
     "output_type": "stream",
     "text": [
      "Match concepts with labels Drama (goethe) and Dramatische Dichtungsart (bouterwek)?\n"
     ]
    },
    {
     "name": "stdin",
     "output_type": "stream",
     "text": [
      "y/n n\n"
     ]
    },
    {
     "name": "stdout",
     "output_type": "stream",
     "text": [
      "Will NOT create a mapping.\n",
      "\n",
      "Match concepts with labels Epistel (goethe) and Didaktische Epistel (bouterwek)?\n"
     ]
    },
    {
     "name": "stdin",
     "output_type": "stream",
     "text": [
      "y/n n\n"
     ]
    },
    {
     "name": "stdout",
     "output_type": "stream",
     "text": [
      "Will NOT create a mapping.\n",
      "\n",
      "Match concepts with labels Epistel (goethe) and Lyrische Epistel (bouterwek)?\n"
     ]
    },
    {
     "name": "stdin",
     "output_type": "stream",
     "text": [
      "y/n n\n"
     ]
    },
    {
     "name": "stdout",
     "output_type": "stream",
     "text": [
      "Will NOT create a mapping.\n",
      "\n",
      "Match concepts with labels Fabel (goethe) and Äsopische Fabel (bouterwek)?\n"
     ]
    },
    {
     "name": "stdin",
     "output_type": "stream",
     "text": [
      "y/n y\n"
     ]
    },
    {
     "name": "stdout",
     "output_type": "stream",
     "text": [
      "Will create mapping.\n",
      "\n",
      "Match concepts with labels Roman (goethe) and Epische Romanze (bouterwek)?\n"
     ]
    },
    {
     "name": "stdin",
     "output_type": "stream",
     "text": [
      "y/n n\n"
     ]
    },
    {
     "name": "stdout",
     "output_type": "stream",
     "text": [
      "Will NOT create a mapping.\n",
      "\n",
      "Match concepts with labels Roman (goethe) and Romantische Canzone (bouterwek)?\n"
     ]
    },
    {
     "name": "stdin",
     "output_type": "stream",
     "text": [
      "y/n n\n"
     ]
    },
    {
     "name": "stdout",
     "output_type": "stream",
     "text": [
      "Will NOT create a mapping.\n",
      "\n",
      "Match concepts with labels Romanze (goethe) and Epische Romanze (bouterwek)?\n"
     ]
    },
    {
     "name": "stdin",
     "output_type": "stream",
     "text": [
      "y/n y\n"
     ]
    },
    {
     "name": "stdout",
     "output_type": "stream",
     "text": [
      "Will create mapping.\n",
      "\n"
     ]
    }
   ],
   "source": [
    "goethe_bouterwek_matches_by_containment = match_by_string_containment_interactive(goethe_terms, bouterwek_terms, \"goethe\", \"bouterwek\")"
   ]
  },
  {
   "cell_type": "code",
   "execution_count": 45,
   "id": "b3d9bda1-4802-4c5d-b531-48b9cbcf629b",
   "metadata": {},
   "outputs": [
    {
     "data": {
      "text/plain": [
       "[{'term1_label': 'Drama',\n",
       "  'term2_label': 'Dramatische Dichtungsart',\n",
       "  'term1_id': 'https://genre.clscor.io/goethe/drama',\n",
       "  'term2_id': 'https://genre.clscor.io/bouterwek/dramatische_dichtungsart',\n",
       "  'term1_source': 'goethe',\n",
       "  'term2_source': 'bouterwek',\n",
       "  'user_assesment': 'n'},\n",
       " {'term1_label': 'Epistel',\n",
       "  'term2_label': 'Didaktische Epistel',\n",
       "  'term1_id': 'https://genre.clscor.io/goethe/epistel',\n",
       "  'term2_id': 'https://genre.clscor.io/bouterwek/didaktische_epistel',\n",
       "  'term1_source': 'goethe',\n",
       "  'term2_source': 'bouterwek',\n",
       "  'user_assesment': 'n'},\n",
       " {'term1_label': 'Epistel',\n",
       "  'term2_label': 'Lyrische Epistel',\n",
       "  'term1_id': 'https://genre.clscor.io/goethe/epistel',\n",
       "  'term2_id': 'https://genre.clscor.io/bouterwek/lyrische_epistel',\n",
       "  'term1_source': 'goethe',\n",
       "  'term2_source': 'bouterwek',\n",
       "  'user_assesment': 'n'},\n",
       " {'term1_label': 'Fabel',\n",
       "  'term2_label': 'Äsopische Fabel',\n",
       "  'term1_id': 'https://genre.clscor.io/goethe/fabel',\n",
       "  'term2_id': 'https://genre.clscor.io/bouterwek/aesopische_fabel',\n",
       "  'term1_source': 'goethe',\n",
       "  'term2_source': 'bouterwek',\n",
       "  'user_assesment': 'y'},\n",
       " {'term1_label': 'Roman',\n",
       "  'term2_label': 'Epische Romanze',\n",
       "  'term1_id': 'https://genre.clscor.io/goethe/roman',\n",
       "  'term2_id': 'https://genre.clscor.io/bouterwek/epische_romanze',\n",
       "  'term1_source': 'goethe',\n",
       "  'term2_source': 'bouterwek',\n",
       "  'user_assesment': 'n'},\n",
       " {'term1_label': 'Roman',\n",
       "  'term2_label': 'Romantische Canzone',\n",
       "  'term1_id': 'https://genre.clscor.io/goethe/roman',\n",
       "  'term2_id': 'https://genre.clscor.io/bouterwek/romantische_canzone',\n",
       "  'term1_source': 'goethe',\n",
       "  'term2_source': 'bouterwek',\n",
       "  'user_assesment': 'n'},\n",
       " {'term1_label': 'Romanze',\n",
       "  'term2_label': 'Epische Romanze',\n",
       "  'term1_id': 'https://genre.clscor.io/goethe/romanze',\n",
       "  'term2_id': 'https://genre.clscor.io/bouterwek/epische_romanze',\n",
       "  'term1_source': 'goethe',\n",
       "  'term2_source': 'bouterwek',\n",
       "  'user_assesment': 'y'}]"
      ]
     },
     "execution_count": 45,
     "metadata": {},
     "output_type": "execute_result"
    }
   ],
   "source": [
    "goethe_bouterwek_matches_by_containment"
   ]
  },
  {
   "cell_type": "code",
   "execution_count": 46,
   "id": "c7b4599f-f3e8-4886-9d60-875e406646aa",
   "metadata": {},
   "outputs": [
    {
     "name": "stdout",
     "output_type": "stream",
     "text": [
      "Match concepts with labels Drama (eschenburg) and Dramatische Dichtungsart (bouterwek)?\n"
     ]
    },
    {
     "name": "stdin",
     "output_type": "stream",
     "text": [
      "y/n n\n"
     ]
    },
    {
     "name": "stdout",
     "output_type": "stream",
     "text": [
      "Will NOT create a mapping.\n",
      "\n",
      "Match concepts with labels Hirtengedicht (eschenburg) and Das Hirtengedicht und die idyllische Poesie (bouterwek)?\n"
     ]
    },
    {
     "name": "stdin",
     "output_type": "stream",
     "text": [
      "y/n y\n"
     ]
    },
    {
     "name": "stdout",
     "output_type": "stream",
     "text": [
      "Will create mapping.\n",
      "\n",
      "Match concepts with labels Roman (eschenburg) and Epische Romanze (bouterwek)?\n"
     ]
    },
    {
     "name": "stdin",
     "output_type": "stream",
     "text": [
      "y/n n\n"
     ]
    },
    {
     "name": "stdout",
     "output_type": "stream",
     "text": [
      "Will NOT create a mapping.\n",
      "\n",
      "Match concepts with labels Roman (eschenburg) and Romantische Canzone (bouterwek)?\n"
     ]
    },
    {
     "name": "stdin",
     "output_type": "stream",
     "text": [
      "y/n n\n"
     ]
    },
    {
     "name": "stdout",
     "output_type": "stream",
     "text": [
      "Will NOT create a mapping.\n",
      "\n",
      "Match concepts with labels Epistel (eschenburg) and Didaktische Epistel (bouterwek)?\n"
     ]
    },
    {
     "name": "stdin",
     "output_type": "stream",
     "text": [
      "y/n n\n"
     ]
    },
    {
     "name": "stdout",
     "output_type": "stream",
     "text": [
      "Will NOT create a mapping.\n",
      "\n",
      "Match concepts with labels Epistel (eschenburg) and Lyrische Epistel (bouterwek)?\n"
     ]
    },
    {
     "name": "stdin",
     "output_type": "stream",
     "text": [
      "y/n n\n"
     ]
    },
    {
     "name": "stdout",
     "output_type": "stream",
     "text": [
      "Will NOT create a mapping.\n",
      "\n"
     ]
    }
   ],
   "source": [
    "eschenburg_bouterwek_matches_by_containment = match_by_string_containment_interactive(eschenburg_terms, bouterwek_terms, \"eschenburg\", \"bouterwek\")"
   ]
  },
  {
   "cell_type": "code",
   "execution_count": 47,
   "id": "0aad717c-ad8e-4deb-8081-d06fcc317197",
   "metadata": {},
   "outputs": [
    {
     "data": {
      "text/plain": [
       "[{'term1_label': 'Drama',\n",
       "  'term2_label': 'Dramatische Dichtungsart',\n",
       "  'term1_id': 'https://genre.clscor.io/eschenburg/drama',\n",
       "  'term2_id': 'https://genre.clscor.io/bouterwek/dramatische_dichtungsart',\n",
       "  'term1_source': 'eschenburg',\n",
       "  'term2_source': 'bouterwek',\n",
       "  'user_assesment': 'n'},\n",
       " {'term1_label': 'Hirtengedicht',\n",
       "  'term2_label': 'Das Hirtengedicht und die idyllische Poesie',\n",
       "  'term1_id': 'https://genre.clscor.io/eschenburg/hirtengedicht',\n",
       "  'term2_id': 'https://genre.clscor.io/bouterwek/hirtengedicht',\n",
       "  'term1_source': 'eschenburg',\n",
       "  'term2_source': 'bouterwek',\n",
       "  'user_assesment': 'y'},\n",
       " {'term1_label': 'Roman',\n",
       "  'term2_label': 'Epische Romanze',\n",
       "  'term1_id': 'https://genre.clscor.io/eschenburg/roman',\n",
       "  'term2_id': 'https://genre.clscor.io/bouterwek/epische_romanze',\n",
       "  'term1_source': 'eschenburg',\n",
       "  'term2_source': 'bouterwek',\n",
       "  'user_assesment': 'n'},\n",
       " {'term1_label': 'Roman',\n",
       "  'term2_label': 'Romantische Canzone',\n",
       "  'term1_id': 'https://genre.clscor.io/eschenburg/roman',\n",
       "  'term2_id': 'https://genre.clscor.io/bouterwek/romantische_canzone',\n",
       "  'term1_source': 'eschenburg',\n",
       "  'term2_source': 'bouterwek',\n",
       "  'user_assesment': 'n'},\n",
       " {'term1_label': 'Epistel',\n",
       "  'term2_label': 'Didaktische Epistel',\n",
       "  'term1_id': 'https://genre.clscor.io/eschenburg/epistel',\n",
       "  'term2_id': 'https://genre.clscor.io/bouterwek/didaktische_epistel',\n",
       "  'term1_source': 'eschenburg',\n",
       "  'term2_source': 'bouterwek',\n",
       "  'user_assesment': 'n'},\n",
       " {'term1_label': 'Epistel',\n",
       "  'term2_label': 'Lyrische Epistel',\n",
       "  'term1_id': 'https://genre.clscor.io/eschenburg/epistel',\n",
       "  'term2_id': 'https://genre.clscor.io/bouterwek/lyrische_epistel',\n",
       "  'term1_source': 'eschenburg',\n",
       "  'term2_source': 'bouterwek',\n",
       "  'user_assesment': 'n'}]"
      ]
     },
     "execution_count": 47,
     "metadata": {},
     "output_type": "execute_result"
    }
   ],
   "source": [
    "eschenburg_bouterwek_matches_by_containment"
   ]
  },
  {
   "cell_type": "code",
   "execution_count": 52,
   "id": "a5895c2c-5c35-4993-9f99-8998c7b6cd62",
   "metadata": {},
   "outputs": [],
   "source": [
    "from rdflib import Graph, SKOS, URIRef"
   ]
  },
  {
   "cell_type": "code",
   "execution_count": 53,
   "id": "d34aa3a6-0492-4727-b7e2-6c8ebb0d3a91",
   "metadata": {},
   "outputs": [],
   "source": [
    "# Need to create rdf triples and export the graphs\n",
    "def export_close_match_on_containment(matchings:list):\n",
    "    \"\"\"creates the export files\"\"\"\n",
    "    source_1_name = matchings[0][\"term1_source\"]\n",
    "    source_2_name = matchings[0][\"term2_source\"]\n",
    "\n",
    "    g_1 = Graph()\n",
    "    g_2 = Graph()\n",
    "\n",
    "    for item in matchings:\n",
    "        if item[\"user_assesment\"] == \"y\":\n",
    "            # add it to the first graph\n",
    "            g_1.add(( URIRef(item[\"term1_id\"]), SKOS.closeMatch, URIRef(item[\"term2_id\"]) ))\n",
    "\n",
    "            # add the inverse to the second graph\n",
    "            g_2.add(( URIRef(item[\"term2_id\"]), SKOS.closeMatch, URIRef(item[\"term1_id\"]) ))\n",
    "\n",
    "    file_1_name = source_1_name + \"_closeMatch_\" + source_2_name + \"_based_on_containment.ttl\"\n",
    "    g_1.serialize(destination=\"out/\"+file_1_name)\n",
    "    file_2_name = source_2_name + \"_closeMatch_\" + source_1_name + \"_based_on_containment.ttl\"\n",
    "    g_2.serialize(destination=\"out/\"+file_2_name)\n"
   ]
  },
  {
   "cell_type": "code",
   "execution_count": 55,
   "id": "d63594de-d035-4a3d-8689-baf6472a038d",
   "metadata": {},
   "outputs": [],
   "source": [
    "# goethe_bouterwek_matches_by_containment\n",
    "# goethe_eschenburg_matches_by_containment\n",
    "# eschenburg_bouterwek_matches_by_containment\n",
    "export_close_match_on_containment(goethe_bouterwek_matches_by_containment)\n",
    "export_close_match_on_containment(goethe_eschenburg_matches_by_containment)\n",
    "export_close_match_on_containment(eschenburg_bouterwek_matches_by_containment)"
   ]
  },
  {
   "cell_type": "markdown",
   "id": "21a056bd-7adc-457a-84ff-dc47eca62eb4",
   "metadata": {},
   "source": [
    "see next notebook for edit distance"
   ]
  },
  {
   "cell_type": "code",
   "execution_count": null,
   "id": "8ac6a37e-2f1e-4901-9a23-b95989a3081a",
   "metadata": {},
   "outputs": [],
   "source": []
  }
 ],
 "metadata": {
  "kernelspec": {
   "display_name": "Python 3 (ipykernel)",
   "language": "python",
   "name": "python3"
  },
  "language_info": {
   "codemirror_mode": {
    "name": "ipython",
    "version": 3
   },
   "file_extension": ".py",
   "mimetype": "text/x-python",
   "name": "python",
   "nbconvert_exporter": "python",
   "pygments_lexer": "ipython3",
   "version": "3.11.3"
  }
 },
 "nbformat": 4,
 "nbformat_minor": 5
}
