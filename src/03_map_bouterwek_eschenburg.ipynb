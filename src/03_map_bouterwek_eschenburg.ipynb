{
 "cells": [
  {
   "cell_type": "markdown",
   "id": "e5035580-3e0e-44bc-982b-e5bca14e253b",
   "metadata": {},
   "source": [
    "# (Semi-)Automatic Mapping of two skos:Concept schemes based on prefLabels of Concepts"
   ]
  },
  {
   "cell_type": "code",
   "execution_count": 1,
   "id": "d7b715de-8701-43bc-9be0-8d7ff5b18580",
   "metadata": {},
   "outputs": [],
   "source": [
    "# Need to extract prefLabel and uri from the ConceptSchemes"
   ]
  },
  {
   "cell_type": "code",
   "execution_count": 2,
   "id": "470e5ffe-12fd-4b57-a877-abb8196ede87",
   "metadata": {},
   "outputs": [
    {
     "name": "stdout",
     "output_type": "stream",
     "text": [
      "01_generate_skos.ipynb            \u001b[34mout\u001b[m\u001b[m\n",
      "02_generate_skos.ipynb            requirements.txt\n",
      "03_map_bouterwek_eschenburg.ipynb \u001b[34mskosmos\u001b[m\u001b[m\n",
      "04_more_advanced_mapping.ipynb    \u001b[34mskostools\u001b[m\u001b[m\n",
      "\u001b[34mdlod\u001b[m\u001b[m                              \u001b[34mvenv\u001b[m\u001b[m\n",
      "\u001b[34mdocker\u001b[m\u001b[m\n"
     ]
    }
   ],
   "source": [
    "!ls"
   ]
  },
  {
   "cell_type": "code",
   "execution_count": 3,
   "id": "44ac76b3-ae7f-4381-b12d-1133a62ce457",
   "metadata": {},
   "outputs": [
    {
     "name": "stdout",
     "output_type": "stream",
     "text": [
      "bouterwek.ttl                       eschenburg_closeMatch_goethe.ttl\n",
      "bouterwek_closeMatch_eschenburg.ttl eschenburg_terms.json\n",
      "bouterwek_closeMatch_goethe.ttl     goethe.ttl\n",
      "bouterwek_terms.json                goethe_closeMatch_bouterwek.ttl\n",
      "eschenburg.ttl                      goethe_closeMatch_eschenburg.ttl\n",
      "eschenburg_closeMatch_bouterwek.ttl goethe_dichtarten_terms.json\n"
     ]
    }
   ],
   "source": [
    "!ls out"
   ]
  },
  {
   "cell_type": "code",
   "execution_count": 4,
   "id": "73fd4b16-30a5-4585-803f-1021bbc1564a",
   "metadata": {},
   "outputs": [],
   "source": [
    "from rdflib import Graph, SKOS"
   ]
  },
  {
   "cell_type": "code",
   "execution_count": 5,
   "id": "5d16d176-c695-4c8d-937a-4e9b2a42eba8",
   "metadata": {},
   "outputs": [
    {
     "data": {
      "text/plain": [
       "<Graph identifier=N346b7c89fe154344a7e19719c432720b (<class 'rdflib.graph.Graph'>)>"
      ]
     },
     "execution_count": 5,
     "metadata": {},
     "output_type": "execute_result"
    }
   ],
   "source": [
    "bouterwek = Graph()\n",
    "bouterwek.parse(\"out/bouterwek.ttl\")"
   ]
  },
  {
   "cell_type": "code",
   "execution_count": 6,
   "id": "fde0eb4f-a4b1-408b-820f-e1bc4cbba7a4",
   "metadata": {},
   "outputs": [
    {
     "data": {
      "text/plain": [
       "<Graph identifier=N13559d0867a64ef2bb1ce997fb14db67 (<class 'rdflib.graph.Graph'>)>"
      ]
     },
     "execution_count": 6,
     "metadata": {},
     "output_type": "execute_result"
    }
   ],
   "source": [
    "eschenburg = Graph()\n",
    "eschenburg.parse(\"out/eschenburg.ttl\")"
   ]
  },
  {
   "cell_type": "code",
   "execution_count": 7,
   "id": "aef4031d-555b-49a3-a5ab-d42b15640095",
   "metadata": {},
   "outputs": [
    {
     "name": "stdout",
     "output_type": "stream",
     "text": [
      "http://www.w3.org/2004/02/skos/core#\n"
     ]
    }
   ],
   "source": [
    "from dlod.ontologies import SKOSNAMESPACE\n",
    "print(SKOSNAMESPACE)"
   ]
  },
  {
   "cell_type": "code",
   "execution_count": 8,
   "id": "59563f82-66e5-413b-a372-3948feb2cdeb",
   "metadata": {},
   "outputs": [],
   "source": [
    "def pref_label_to_term_dict(graph:Graph) -> list:\n",
    "    \"\"\"Takes rdflib.Graph and extracts the skos:prefLabel as label\"\"\"\n",
    "    \n",
    "    query = \"\"\"\n",
    "\n",
    "    PREFIX skos: <http://www.w3.org/2004/02/skos/core#>\n",
    "\n",
    "    SELECT ?uri ?label WHERE {\n",
    "        ?uri a skos:Concept ;\n",
    "            skos:prefLabel ?label\n",
    "    }\n",
    "    \"\"\"\n",
    "     \n",
    "    terms = []\n",
    "\n",
    "    res = graph.query(query)\n",
    "\n",
    "    for binding in res:\n",
    "        term = dict()\n",
    "        term[\"id\"] = binding[0]\n",
    "        term[\"label\"] = str(binding[1])\n",
    "        terms.append(term)\n",
    "\n",
    "    return terms"
   ]
  },
  {
   "cell_type": "code",
   "execution_count": 9,
   "id": "338a15c7-4462-4a5a-a0ef-bd59baa9dbc7",
   "metadata": {},
   "outputs": [],
   "source": [
    "bouterwek_terms = pref_label_to_term_dict(bouterwek)\n",
    "eschenburg_terms = pref_label_to_term_dict(eschenburg)"
   ]
  },
  {
   "cell_type": "code",
   "execution_count": 10,
   "id": "3f51a821-77cf-4c57-a16f-63ebc90f81e9",
   "metadata": {},
   "outputs": [],
   "source": [
    "#bouterwek_terms"
   ]
  },
  {
   "cell_type": "code",
   "execution_count": 11,
   "id": "4056eb3b-7a8a-41a2-bbf6-ba55f6edc97c",
   "metadata": {},
   "outputs": [
    {
     "data": {
      "text/plain": [
       "{'id': rdflib.term.URIRef('https://genre.clscor.io/bouterwek/ballade'),\n",
       " 'label': 'Ballade'}"
      ]
     },
     "execution_count": 11,
     "metadata": {},
     "output_type": "execute_result"
    }
   ],
   "source": [
    "bouterwek_terms[0]"
   ]
  },
  {
   "cell_type": "markdown",
   "id": "16bd6625-9836-4bf3-8805-712da4f4fcfb",
   "metadata": {},
   "source": [
    "> The property skos:closeMatch is used to link two concepts that are sufficiently similar that they can be used interchangeably in some information retrieval applications. In order to avoid the possibility of \"compound errors\" when combining mappings across more than two concept schemes, skos:closeMatch is not declared to be a transitive property.\n",
    "\n",
    "> The property skos:exactMatch is used to link two concepts, indicating a high degree of confidence that the concepts can be used interchangeably across a wide range of information retrieval applications. skos:exactMatch is a transitive property, and is a sub-property of skos:closeMatch.\n",
    "\n",
    "https://www.w3.org/TR/skos-reference/#mapping"
   ]
  },
  {
   "cell_type": "code",
   "execution_count": 12,
   "id": "3f7149bf-e781-4c9b-8dea-d7e607c9cae8",
   "metadata": {},
   "outputs": [],
   "source": [
    "# what skos relation is it? exactMatch? closeMatch?\n",
    "eschenburg_exact_string_match_g = Graph()\n",
    "bouterwek_exact_string_match_g = Graph()\n"
   ]
  },
  {
   "cell_type": "code",
   "execution_count": 13,
   "id": "c732bc84-5ee5-408c-a6a8-16c98c9383ac",
   "metadata": {},
   "outputs": [
    {
     "name": "stdout",
     "output_type": "stream",
     "text": [
      "Exact match on string: Elegie\n",
      "Exact match on string: Lehrgedicht\n",
      "Exact match on string: Lustspiel\n",
      "Exact match on string: Trauerspiel\n",
      "Exact match on string: Epigramm\n",
      "Exact match on string: Oper\n",
      "Exact match on string: Roman\n",
      "Exact match on string: Dramatische Dichtungsart\n",
      "Exact match on string: Epische Dichtungsart\n"
     ]
    }
   ],
   "source": [
    "exact_matching_strings = []\n",
    "\n",
    "for bouterwek_term in bouterwek_terms:\n",
    "    for eschenburg_term in eschenburg_terms:\n",
    "        if bouterwek_term[\"label\"].lower() == eschenburg_term[\"label\"].lower():\n",
    "            \n",
    "            print(f\"Exact match on string: {eschenburg_term['label']}\")\n",
    "            exact_matching_strings.append(eschenburg_term['label'])\n",
    "\n",
    "            eschenburg_exact_string_match_g.add(( eschenburg_term[\"id\"], SKOS.closeMatch, bouterwek_term[\"id\"]  ))\n",
    "            bouterwek_exact_string_match_g.add(( bouterwek_term[\"id\"], SKOS.closeMatch, eschenburg_term[\"id\"]  ))\n",
    " "
   ]
  },
  {
   "cell_type": "code",
   "execution_count": 14,
   "id": "b43fa084-9426-48a3-a551-59611f2c49f9",
   "metadata": {},
   "outputs": [
    {
     "data": {
      "text/plain": [
       "9"
      ]
     },
     "execution_count": 14,
     "metadata": {},
     "output_type": "execute_result"
    }
   ],
   "source": [
    "len(exact_matching_strings)"
   ]
  },
  {
   "cell_type": "markdown",
   "id": "672180a3-b405-409c-b3f9-803adbbb88b5",
   "metadata": {},
   "source": [
    "Exact String matching (to lower case) allows to identify 9 matching strings; but it doesn't match concepts with labels having slight spelling variation, e.g. \"Äsopische Fabel\" and \"Aesopische Fabel\". Maybe edit distance would help here."
   ]
  },
  {
   "cell_type": "code",
   "execution_count": 15,
   "id": "66097c92-07b5-4f36-a563-e0aebbdead53",
   "metadata": {},
   "outputs": [
    {
     "name": "stdout",
     "output_type": "stream",
     "text": [
      "@prefix skos: <http://www.w3.org/2004/02/skos/core#> .\n",
      "\n",
      "<https://genre.clscor.io/eschenburg/dramatische_dichtungsart> skos:closeMatch <https://genre.clscor.io/bouterwek/dramatische_dichtungsart> .\n",
      "\n",
      "<https://genre.clscor.io/eschenburg/elegie> skos:closeMatch <https://genre.clscor.io/bouterwek/elegie> .\n",
      "\n",
      "<https://genre.clscor.io/eschenburg/epigramm> skos:closeMatch <https://genre.clscor.io/bouterwek/epigramm> .\n",
      "\n",
      "<https://genre.clscor.io/eschenburg/epische_dichtungsart> skos:closeMatch <https://genre.clscor.io/bouterwek/epische_dichtungsart> .\n",
      "\n",
      "<https://genre.clscor.io/eschenburg/lehrgedicht> skos:closeMatch <https://genre.clscor.io/bouterwek/lehrgedicht> .\n",
      "\n",
      "<https://genre.clscor.io/eschenburg/lustspiel> skos:closeMatch <https://genre.clscor.io/bouterwek/lustspiel> .\n",
      "\n",
      "<https://genre.clscor.io/eschenburg/oper> skos:closeMatch <https://genre.clscor.io/bouterwek/oper> .\n",
      "\n",
      "<https://genre.clscor.io/eschenburg/roman> skos:closeMatch <https://genre.clscor.io/bouterwek/roman> .\n",
      "\n",
      "<https://genre.clscor.io/eschenburg/trauerspiel> skos:closeMatch <https://genre.clscor.io/bouterwek/trauerspiel> .\n",
      "\n",
      "\n"
     ]
    }
   ],
   "source": [
    "print(eschenburg_exact_string_match_g.serialize())"
   ]
  },
  {
   "cell_type": "code",
   "execution_count": 16,
   "id": "81569201-048d-4969-bbbf-58b722139ff7",
   "metadata": {},
   "outputs": [
    {
     "data": {
      "text/plain": [
       "<Graph identifier=N95ebeaaffd384a5bbf7c388979321e05 (<class 'rdflib.graph.Graph'>)>"
      ]
     },
     "execution_count": 16,
     "metadata": {},
     "output_type": "execute_result"
    }
   ],
   "source": [
    "eschenburg_exact_string_match_g.serialize(destination=\"out/eschenburg_closeMatch_bouterwek.ttl\")"
   ]
  },
  {
   "cell_type": "code",
   "execution_count": 17,
   "id": "140905f4-b8ed-4af4-800d-19d9b20a9b9f",
   "metadata": {},
   "outputs": [
    {
     "name": "stdout",
     "output_type": "stream",
     "text": [
      "@prefix skos: <http://www.w3.org/2004/02/skos/core#> .\n",
      "\n",
      "<https://genre.clscor.io/bouterwek/dramatische_dichtungsart> skos:closeMatch <https://genre.clscor.io/eschenburg/dramatische_dichtungsart> .\n",
      "\n",
      "<https://genre.clscor.io/bouterwek/elegie> skos:closeMatch <https://genre.clscor.io/eschenburg/elegie> .\n",
      "\n",
      "<https://genre.clscor.io/bouterwek/epigramm> skos:closeMatch <https://genre.clscor.io/eschenburg/epigramm> .\n",
      "\n",
      "<https://genre.clscor.io/bouterwek/epische_dichtungsart> skos:closeMatch <https://genre.clscor.io/eschenburg/epische_dichtungsart> .\n",
      "\n",
      "<https://genre.clscor.io/bouterwek/lehrgedicht> skos:closeMatch <https://genre.clscor.io/eschenburg/lehrgedicht> .\n",
      "\n",
      "<https://genre.clscor.io/bouterwek/lustspiel> skos:closeMatch <https://genre.clscor.io/eschenburg/lustspiel> .\n",
      "\n",
      "<https://genre.clscor.io/bouterwek/oper> skos:closeMatch <https://genre.clscor.io/eschenburg/oper> .\n",
      "\n",
      "<https://genre.clscor.io/bouterwek/roman> skos:closeMatch <https://genre.clscor.io/eschenburg/roman> .\n",
      "\n",
      "<https://genre.clscor.io/bouterwek/trauerspiel> skos:closeMatch <https://genre.clscor.io/eschenburg/trauerspiel> .\n",
      "\n",
      "\n"
     ]
    }
   ],
   "source": [
    "print(bouterwek_exact_string_match_g.serialize())"
   ]
  },
  {
   "cell_type": "code",
   "execution_count": 18,
   "id": "1930a0fb-78a8-48c2-9919-f1db55e7daf2",
   "metadata": {},
   "outputs": [
    {
     "data": {
      "text/plain": [
       "<Graph identifier=Nd51cad0f7a5c4a7e8c442df4dc2bed42 (<class 'rdflib.graph.Graph'>)>"
      ]
     },
     "execution_count": 18,
     "metadata": {},
     "output_type": "execute_result"
    }
   ],
   "source": [
    "bouterwek_exact_string_match_g.serialize(destination=\"out/bouterwek_closeMatch_eschenburg.ttl\")"
   ]
  },
  {
   "cell_type": "markdown",
   "id": "c48e156a-ff14-42a6-92c8-afbb61fad7f9",
   "metadata": {},
   "source": [
    "## Goethe mapping"
   ]
  },
  {
   "cell_type": "code",
   "execution_count": 19,
   "id": "82bc8250-f9ad-4c92-81b1-25a3c92c190f",
   "metadata": {},
   "outputs": [
    {
     "data": {
      "text/plain": [
       "<Graph identifier=Ne870df0888bc410483629d1b8c50ed79 (<class 'rdflib.graph.Graph'>)>"
      ]
     },
     "execution_count": 19,
     "metadata": {},
     "output_type": "execute_result"
    }
   ],
   "source": [
    "goethe = Graph()\n",
    "goethe.parse(\"out/goethe.ttl\")"
   ]
  },
  {
   "cell_type": "code",
   "execution_count": 20,
   "id": "3c5376a2-4120-4217-b0ec-ecc58285eb8c",
   "metadata": {},
   "outputs": [],
   "source": [
    "# We only take the \"Dichtarten\" of Goethe; this can be selected with a designated SPARQL Query that checks for the collection\n",
    "goethe_dichtarten_terms = []\n",
    "\n",
    "\n",
    "goethe_dichtarten_query = \"\"\"\n",
    "\n",
    " PREFIX skos: <http://www.w3.org/2004/02/skos/core#>\n",
    "\n",
    "    SELECT ?uri ?label WHERE {\n",
    "        \n",
    "        ?uri a skos:Concept ;\n",
    "            skos:prefLabel ?label .\n",
    "\n",
    "        <https://genre.clscor.io/goethe/collection/dichtarten> skos:member ?uri .\n",
    "    }\n",
    "\n",
    "\"\"\"\n",
    "\n",
    "goethe_sparql_result = goethe.query(goethe_dichtarten_query)\n",
    "\n",
    "for binding in goethe_sparql_result:\n",
    "    term = dict()\n",
    "    term[\"id\"] = binding[0]\n",
    "    term[\"label\"] = str(binding[1])\n",
    "    goethe_dichtarten_terms.append(term)\n",
    "\n"
   ]
  },
  {
   "cell_type": "code",
   "execution_count": 21,
   "id": "f0ac4616-5b6a-4ee2-b847-dbece823b827",
   "metadata": {},
   "outputs": [
    {
     "data": {
      "text/plain": [
       "[{'id': rdflib.term.URIRef('https://genre.clscor.io/goethe/allegorie'),\n",
       "  'label': 'Allegorie'},\n",
       " {'id': rdflib.term.URIRef('https://genre.clscor.io/goethe/ballade'),\n",
       "  'label': 'Ballade'},\n",
       " {'id': rdflib.term.URIRef('https://genre.clscor.io/goethe/cantate'),\n",
       "  'label': 'Cantate'},\n",
       " {'id': rdflib.term.URIRef('https://genre.clscor.io/goethe/drama'),\n",
       "  'label': 'Drama'},\n",
       " {'id': rdflib.term.URIRef('https://genre.clscor.io/goethe/elegie'),\n",
       "  'label': 'Elegie'},\n",
       " {'id': rdflib.term.URIRef('https://genre.clscor.io/goethe/epigramm'),\n",
       "  'label': 'Epigramm'},\n",
       " {'id': rdflib.term.URIRef('https://genre.clscor.io/goethe/epistel'),\n",
       "  'label': 'Epistel'},\n",
       " {'id': rdflib.term.URIRef('https://genre.clscor.io/goethe/epopoee'),\n",
       "  'label': 'Epopöe'},\n",
       " {'id': rdflib.term.URIRef('https://genre.clscor.io/goethe/erzaehlung'),\n",
       "  'label': 'Erzählung'},\n",
       " {'id': rdflib.term.URIRef('https://genre.clscor.io/goethe/fabel'),\n",
       "  'label': 'Fabel'},\n",
       " {'id': rdflib.term.URIRef('https://genre.clscor.io/goethe/heroide'),\n",
       "  'label': 'Heroide'},\n",
       " {'id': rdflib.term.URIRef('https://genre.clscor.io/goethe/idylle'),\n",
       "  'label': 'Idylle'},\n",
       " {'id': rdflib.term.URIRef('https://genre.clscor.io/goethe/lehrgedicht'),\n",
       "  'label': 'Lehrgedicht'},\n",
       " {'id': rdflib.term.URIRef('https://genre.clscor.io/goethe/ode'),\n",
       "  'label': 'Ode'},\n",
       " {'id': rdflib.term.URIRef('https://genre.clscor.io/goethe/parodie'),\n",
       "  'label': 'Parodie'},\n",
       " {'id': rdflib.term.URIRef('https://genre.clscor.io/goethe/roman'),\n",
       "  'label': 'Roman'},\n",
       " {'id': rdflib.term.URIRef('https://genre.clscor.io/goethe/romanze'),\n",
       "  'label': 'Romanze'},\n",
       " {'id': rdflib.term.URIRef('https://genre.clscor.io/goethe/satire'),\n",
       "  'label': 'Satire'}]"
      ]
     },
     "execution_count": 21,
     "metadata": {},
     "output_type": "execute_result"
    }
   ],
   "source": [
    "goethe_dichtarten_terms"
   ]
  },
  {
   "cell_type": "code",
   "execution_count": 22,
   "id": "0f99eab0-f132-40f5-830b-23761736ab81",
   "metadata": {},
   "outputs": [],
   "source": [
    "# run the same algorithm as the comparison with bouterwek and eschenburg\n",
    "# copied the code, but should become a function at some point\n",
    "\n",
    "\n",
    "# what skos relation is it? exactMatch? closeMatch?\n",
    "goethe_to_eschenburg_exact_string_match_g = Graph()\n",
    "eschenburg_to_goethe_exact_string_match_g = Graph()\n",
    "\n",
    "goethe_to_bouterwek_exact_string_match_g = Graph()\n",
    "bouterwek_to_goethe_exact_string_match_g = Graph()\n"
   ]
  },
  {
   "cell_type": "code",
   "execution_count": 23,
   "id": "86f4ebc0-2575-4b50-bc72-9afd96595e80",
   "metadata": {},
   "outputs": [
    {
     "name": "stdout",
     "output_type": "stream",
     "text": [
      "Exact match Goethe to Bouterwek on string: Ballade\n",
      "Exact match Goethe to Eschenburg on string: Drama\n",
      "Exact match Goethe to Eschenburg on string: Elegie\n",
      "Exact match Goethe to Bouterwek on string: Elegie\n",
      "Exact match Goethe to Eschenburg on string: Epigramm\n",
      "Exact match Goethe to Bouterwek on string: Epigramm\n",
      "Exact match Goethe to Eschenburg on string: Epistel\n",
      "Exact match Goethe to Bouterwek on string: Epopöe\n",
      "Exact match Goethe to Eschenburg on string: Heroide\n",
      "Exact match Goethe to Eschenburg on string: Lehrgedicht\n",
      "Exact match Goethe to Bouterwek on string: Lehrgedicht\n",
      "Exact match Goethe to Bouterwek on string: Ode\n",
      "Exact match Goethe to Eschenburg on string: Roman\n",
      "Exact match Goethe to Bouterwek on string: Roman\n",
      "Exact match Goethe to Eschenburg on string: Satire\n"
     ]
    }
   ],
   "source": [
    "exact_matching_strings_goethe_bouterwek = []\n",
    "exact_matching_strings_goethe_eschenburg = []\n",
    "\n",
    "for goethe_term  in goethe_dichtarten_terms:\n",
    "    # do it for eschenburg\n",
    "    for eschenburg_term in eschenburg_terms:\n",
    "        if goethe_term[\"label\"].lower() == eschenburg_term[\"label\"].lower():\n",
    "            \n",
    "            print(f\"Exact match Goethe to Eschenburg on string: {eschenburg_term['label']}\")\n",
    "            exact_matching_strings_goethe_eschenburg.append(eschenburg_term['label'])\n",
    "\n",
    "            goethe_to_eschenburg_exact_string_match_g.add(( goethe_term[\"id\"], SKOS.closeMatch, eschenburg_term[\"id\"]  ))\n",
    "            eschenburg_to_goethe_exact_string_match_g.add(( eschenburg_term[\"id\"], SKOS.closeMatch,  goethe_term[\"id\"]))\n",
    "\n",
    "    # same for bouterwek\n",
    "    for bouterwek_term in bouterwek_terms:\n",
    "        if goethe_term[\"label\"].lower() == bouterwek_term[\"label\"].lower():\n",
    "            \n",
    "            print(f\"Exact match Goethe to Bouterwek on string: {bouterwek_term['label']}\")\n",
    "            exact_matching_strings_goethe_bouterwek.append(bouterwek_term['label'])\n",
    "\n",
    "            goethe_to_bouterwek_exact_string_match_g.add(( goethe_term[\"id\"], SKOS.closeMatch, bouterwek_term[\"id\"]  ))\n",
    "            bouterwek_to_goethe_exact_string_match_g.add(( bouterwek_term[\"id\"], SKOS.closeMatch,  goethe_term[\"id\"]))\n",
    "            \n",
    "            "
   ]
  },
  {
   "cell_type": "code",
   "execution_count": 24,
   "id": "0254dbdb-f47d-49ed-be3b-c184f7546838",
   "metadata": {},
   "outputs": [
    {
     "data": {
      "text/plain": [
       "<Graph identifier=Ne9ef182a4e9542529b43ddb7404a7098 (<class 'rdflib.graph.Graph'>)>"
      ]
     },
     "execution_count": 24,
     "metadata": {},
     "output_type": "execute_result"
    }
   ],
   "source": [
    "# closeMatch Goethe to Eschenburg\n",
    "goethe_to_eschenburg_exact_string_match_g.serialize(destination=\"out/goethe_closeMatch_eschenburg.ttl\")\n",
    "\n",
    "# closeMatch Eschenburg to Goethe\n",
    "eschenburg_to_goethe_exact_string_match_g.serialize(destination=\"out/eschenburg_closeMatch_goethe.ttl\")\n",
    "\n",
    "# closeMatch Goethe to Bouterwek\n",
    "goethe_to_bouterwek_exact_string_match_g.serialize(destination=\"out/goethe_closeMatch_bouterwek.ttl\")\n",
    "\n",
    "# Bouterwek to Goethe\n",
    "bouterwek_to_goethe_exact_string_match_g.serialize(destination=\"out/bouterwek_closeMatch_goethe.ttl\")"
   ]
  },
  {
   "cell_type": "code",
   "execution_count": 25,
   "id": "dffcdba8-3607-4ec3-8604-80f652b999de",
   "metadata": {},
   "outputs": [
    {
     "name": "stdout",
     "output_type": "stream",
     "text": [
      "['Ballade', 'Elegie', 'Epigramm', 'Epopöe', 'Lehrgedicht', 'Ode', 'Roman']\n"
     ]
    }
   ],
   "source": [
    "print(exact_matching_strings_goethe_bouterwek)"
   ]
  },
  {
   "cell_type": "code",
   "execution_count": 26,
   "id": "2874c924-8a1a-4260-af11-0785a18a5d3d",
   "metadata": {},
   "outputs": [
    {
     "data": {
      "text/plain": [
       "7"
      ]
     },
     "execution_count": 26,
     "metadata": {},
     "output_type": "execute_result"
    }
   ],
   "source": [
    "len(exact_matching_strings_goethe_bouterwek)"
   ]
  },
  {
   "cell_type": "code",
   "execution_count": 27,
   "id": "2109af3c-b611-4965-a2e1-c3cfb5cb192e",
   "metadata": {},
   "outputs": [
    {
     "name": "stdout",
     "output_type": "stream",
     "text": [
      "['Drama', 'Elegie', 'Epigramm', 'Epistel', 'Heroide', 'Lehrgedicht', 'Roman', 'Satire']\n"
     ]
    }
   ],
   "source": [
    "print(exact_matching_strings_goethe_eschenburg)"
   ]
  },
  {
   "cell_type": "code",
   "execution_count": 28,
   "id": "dfcf23ba-f5cf-4358-9663-4e709b247b78",
   "metadata": {},
   "outputs": [
    {
     "data": {
      "text/plain": [
       "8"
      ]
     },
     "execution_count": 28,
     "metadata": {},
     "output_type": "execute_result"
    }
   ],
   "source": [
    "len(exact_matching_strings_goethe_eschenburg)"
   ]
  },
  {
   "cell_type": "code",
   "execution_count": 29,
   "id": "c6afa5b2-c78c-4fe7-9b8d-3f3026a686a3",
   "metadata": {},
   "outputs": [],
   "source": [
    "import json\n",
    "\n",
    "def store_terms(terms:list, filename:str):\n",
    "    filepath = \"out/\" + filename + \".json\"\n",
    "\n",
    "    with open(filepath, \"w\") as f:\n",
    "        f.write(json.dumps(terms))"
   ]
  },
  {
   "cell_type": "code",
   "execution_count": 30,
   "id": "50efc957-b358-4e25-a9ea-0d8bc73bb221",
   "metadata": {},
   "outputs": [],
   "source": [
    "## Save the terms for later re-use\n",
    "store_terms(goethe_dichtarten_terms, \"goethe_dichtarten_terms\")\n",
    "store_terms(bouterwek_terms, \"bouterwek_terms\")\n",
    "store_terms(eschenburg_terms, \"eschenburg_terms\")"
   ]
  },
  {
   "cell_type": "code",
   "execution_count": null,
   "id": "e74e7575-a4ca-4e06-8124-18c2f0dd89aa",
   "metadata": {},
   "outputs": [],
   "source": []
  }
 ],
 "metadata": {
  "kernelspec": {
   "display_name": "Python 3 (ipykernel)",
   "language": "python",
   "name": "python3"
  },
  "language_info": {
   "codemirror_mode": {
    "name": "ipython",
    "version": 3
   },
   "file_extension": ".py",
   "mimetype": "text/x-python",
   "name": "python",
   "nbconvert_exporter": "python",
   "pygments_lexer": "ipython3",
   "version": "3.11.3"
  }
 },
 "nbformat": 4,
 "nbformat_minor": 5
}
