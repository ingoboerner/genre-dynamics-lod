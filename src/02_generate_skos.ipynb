{
 "cells": [
  {
   "cell_type": "markdown",
   "id": "98ed0ff9-6a06-4f77-b3fb-ba193b2b7797",
   "metadata": {},
   "source": [
    "# Generate Genre Vocabularies as SKOS (A Second Test: using ConceptSchemes and Collections)\n",
    "This notebook generates two SKOS Vocabularies (i.e. `skos:ConceptScheme`) for two historic genre classification schemes.\n",
    "In this notebook `skos:Collection` are used as well."
   ]
  },
  {
   "cell_type": "markdown",
   "id": "6315dd9a-c2d0-42fc-89e0-78ef92ba9cfb",
   "metadata": {},
   "source": [
    "Why skos:Collections are needed:\n",
    "\n",
    "* can we infer that there is such a concept as \"Lyrische Dichtungsart\" if there is an item in the TOC \"Lyrische Dichtungsarten\"?\n",
    "* these might be considered as collections instead of concepts; and then we add concepts; but this will/might break the hierarchy\n",
    "* concepts and collections are disjoint classes!\n",
    "* how we go about headings: \"Die romantische Canzone, das lyrische Sonett usw.\" – there are obviously more concepts here: \"romantische Canzone\", \"Lyrisches Sonett\"; should this be modeled as a collection or separate concepts on the same level in the upper collection"
   ]
  },
  {
   "cell_type": "code",
   "execution_count": 1,
   "id": "c84d56c5-c07c-419a-9ddb-a34d5431c0bf",
   "metadata": {},
   "outputs": [],
   "source": [
    "# import helper classes\n",
    "from dlod.cidoc import E55Type\n",
    "from dlod.skos import SkosConceptScheme, SkosConcept, SkosCollection\n",
    "from rdflib import Graph"
   ]
  },
  {
   "cell_type": "markdown",
   "id": "3dc49c9a-79c3-4344-adf0-6275c1438d19",
   "metadata": {},
   "source": [
    "## Function to generate skos:Concepts from python data structure"
   ]
  },
  {
   "cell_type": "code",
   "execution_count": 2,
   "id": "eb0aa6d0-9f48-4346-a8ee-1d6fc0c6e2f2",
   "metadata": {},
   "outputs": [],
   "source": [
    "def create_concept_from_dict(data:dict, base_uri:str, concept_scheme:SkosConceptScheme):\n",
    "    \"\"\"Takes a dictionary with id, label and narrower concept and create the skos:Concept\"\"\"\n",
    "\n",
    "    concept_uri = base_uri + data[\"id\"]\n",
    "    concept = SkosConcept(uri=concept_uri)\n",
    "    concept.skos_pref_label(data[\"label\"], \"de\")\n",
    "    concept.skos_in_scheme(concept_scheme)\n",
    "\n",
    "    if \"narrower\" in data:\n",
    "        for item in data[\"narrower\"]:\n",
    "            narrow_concept = create_concept_from_dict(item, base_uri=base_uri, concept_scheme=concept_scheme)\n",
    "            concept.skos_narrower(narrow_concept)\n",
    "\n",
    "    return concept\n",
    "\n",
    "    "
   ]
  },
  {
   "cell_type": "markdown",
   "id": "ac981b4a-a7ca-4d95-b018-b4e9cdcabd05",
   "metadata": {},
   "source": [
    "## Johann Joachim Eschenburg: Entwurf einer Theorie und Literatur der schönen Redekünste. Zur Grundlage bei Vorlesungen. 4. Auflage. Berlin/Stettin 1817.\n",
    "\n",
    "* Epische Dichtungsarten\t\n",
    "    * I. Poetische Erzählung\n",
    "        * 1. Aesopische Fabel\n",
    "        * 2. Poetische Erzählung\n",
    "        * 3. Allegorische Erzählung\n",
    "    * II. Das Hirtengedicht\n",
    "    * III. Das Epigramm\n",
    "    * IV. Die Satire\n",
    "    * V. Das Lehrgedicht, die beschreibende Poesie, die Epistel\n",
    "    * VI. Die Elegie\n",
    "    * VII. Die lyrische Poesie\n",
    "    * VIII. Das Heldengedicht\n",
    "    * IX. Der Roman\n",
    "* Dramatische Dichtungsarten\n",
    "    * I. Das poetische Gespräch\n",
    "    * II. Die Heroide\n",
    "    * III. Die Kantate\n",
    "    * IV. Das Drama überhaupt\n",
    "    * V. Das Lustspiel\n",
    "    * VI. Das Trauerspiel\n",
    "    * VII. Die Oper "
   ]
  },
  {
   "cell_type": "code",
   "execution_count": 3,
   "id": "5e729571-62a2-4557-a666-0a230c04704f",
   "metadata": {},
   "outputs": [],
   "source": [
    "# create a graph to collect generated pieces of the SKOS\n",
    "eschenburg_g = Graph()"
   ]
  },
  {
   "cell_type": "markdown",
   "id": "39d7bc28-3bc4-4714-bba7-345487b4763d",
   "metadata": {},
   "source": [
    "We need this in a structure that we can work with. Therefore we \"convert\" it to a list with nested dictionaries. Later on we would need a parser for a YAML file or whatever format it is convenient to generate as input."
   ]
  },
  {
   "cell_type": "markdown",
   "id": "00f7f384-d6f6-4c9d-8bc6-db985029f0d4",
   "metadata": {},
   "source": [
    "### Eschenburg ConceptScheme"
   ]
  },
  {
   "cell_type": "code",
   "execution_count": 4,
   "id": "6177683b-cb05-4f3e-b867-768f2f462c0a",
   "metadata": {},
   "outputs": [],
   "source": [
    "eschenburg_base_uri = \"https://genre.clscor.io/eschenburg/\""
   ]
  },
  {
   "cell_type": "code",
   "execution_count": 5,
   "id": "b06ce77e-7923-4abc-adc5-c3a4dbedbb8e",
   "metadata": {},
   "outputs": [
    {
     "data": {
      "text/plain": [
       "True"
      ]
     },
     "execution_count": 5,
     "metadata": {},
     "output_type": "execute_result"
    }
   ],
   "source": [
    "eschenburg = SkosConceptScheme(uri=eschenburg_base_uri)\n",
    "eschenburg.rdfs_label(\"Eschenburg: Entwurf einer Theorie und Literatur der schönen Redekünste [Gattungssystem]\", \"de\")"
   ]
  },
  {
   "cell_type": "code",
   "execution_count": 6,
   "id": "470fcd81-bd5a-464e-ad2c-4bbb2e858dfe",
   "metadata": {},
   "outputs": [],
   "source": [
    "#add the triples to the joint graph\n",
    "# maybe it was not the very best idea to name the concept scheme eschenburg, maybe will refactor later\n",
    "eschenburg_g = eschenburg_g + eschenburg.dump()"
   ]
  },
  {
   "cell_type": "markdown",
   "id": "1c0757b6-687f-4cdc-badc-3c906e65b7fd",
   "metadata": {},
   "source": [
    "### Eschenburg Concepts\n",
    "The following data structure is a datafied version of the eschenburg toc included above. It is used to generate the `skos:Concept`s."
   ]
  },
  {
   "cell_type": "code",
   "execution_count": 7,
   "id": "9c4ff594-7cb6-4af5-b730-826aaeca9ea9",
   "metadata": {},
   "outputs": [],
   "source": [
    "eschenburg_raw_data = [\n",
    "\n",
    "    {\n",
    "        \"id\" : \"epische_dichtungsart\",\n",
    "        \"label\" : \"Epische Dichtungsart\",\n",
    "        \"narrower\" : [\n",
    "                {\n",
    "                    \"id\" : \"poetische_erzaehlung\",\n",
    "                    \"label\" : \"Poetische Erzählung\",\n",
    "                    \"narrower\" : [\n",
    "\n",
    "                            \n",
    "                            {\n",
    "                                \"id\" : \"aesopische_fabel\",\n",
    "                                \"label\" : \"Aesopische Fabel\"\n",
    "                            },\n",
    "                            {\n",
    "                                \"id\" : \"poetische_erzaehlung\",\n",
    "                                \"label\" : \"Poetische Erzählung\"\n",
    "                            },\n",
    "                            {\n",
    "                                \"id\" : \"allegorische_erzaehlung\",\n",
    "                                \"label\" : \"Allegorische Erzählung\"\n",
    "                            }\n",
    "                                \n",
    "                             \n",
    "                        ]\n",
    "                },\n",
    "                {\n",
    "                    \"id\" : \"hirtengedicht\",\n",
    "                    \"label\" : \"Hirtengedicht\"\n",
    "                },\n",
    "                {\n",
    "                    \"id\" : \"epigramm\",\n",
    "                    \"label\" : \"Epigramm\"\n",
    "                },\n",
    "                {\n",
    "                    \"id\" : \"satire\",\n",
    "                    \"label\" : \"Satire\"\n",
    "                },\n",
    "                {\n",
    "                    \"id\" : \"lehrgedicht\",\n",
    "                    \"label\" : \"Lehrgedicht\"\n",
    "                },\n",
    "                {\n",
    "                    \"id\" : \"beschreibende_poesie\",\n",
    "                    \"label\" : \"Beschreibende Poesie\"\n",
    "                },\n",
    "                {\n",
    "                    \"id\": \"epistel\",\n",
    "                    \"label\" : \"Epistel\"\n",
    "                },\n",
    "                {\n",
    "                    \"id\" : \"elegie\",\n",
    "                    \"label\" : \"Elegie\"\n",
    "                },\n",
    "                {\n",
    "                    \"id\" : \"lyrische_poesie\",\n",
    "                    \"label\" : \"Lyrische Poesie\"\n",
    "                },\n",
    "                {\n",
    "                    \"id\" : \"heldengedicht\",\n",
    "                    \"label\" : \"Heldengedicht\"\n",
    "                },\n",
    "                {\n",
    "                    \"id\" : \"roman\",\n",
    "                    \"label\" : \"Roman\"\n",
    "                }\n",
    "    \n",
    "            ]\n",
    "    },\n",
    "\n",
    "    {\n",
    "        \"id\" : \"dramatische_dichtungsart\",\n",
    "        \"label\" : \"Dramatische Dichtungsart\",\n",
    "        \"narrower\" : [\n",
    "                {\n",
    "                    \"id\" : \"poetisches_gespraech\",\n",
    "                    \"label\" : \"Poetisches Gespräch\"\n",
    "                },\n",
    "                {\n",
    "                    \"id\" : \"heroide\",\n",
    "                    \"label\" : \"Heroide\"\n",
    "                },\n",
    "                {\n",
    "                    \"id\" : \"kantate\",\n",
    "                    \"label\" : \"Kantate\"\n",
    "                },\n",
    "                {\n",
    "                    \"id\" : \"drama\",\n",
    "                    \"label\" : \"Drama\"\n",
    "                },\n",
    "                {\n",
    "                    \"id\" : \"lustspiel\",\n",
    "                    \"label\" : \"Lustspiel\"\n",
    "                },\n",
    "                {\n",
    "                    \"id\" : \"trauerspiel\",\n",
    "                    \"label\" : \"Trauerspiel\"\n",
    "                },\n",
    "                {\n",
    "                    \"id\" : \"oper\",\n",
    "                    \"label\" : \"Oper\"\n",
    "                }\n",
    "            ]\n",
    "    }\n",
    "    \n",
    "]"
   ]
  },
  {
   "cell_type": "code",
   "execution_count": 8,
   "id": "b6891b3b-d9fc-494f-9ff2-0955a3d7e5cc",
   "metadata": {},
   "outputs": [],
   "source": [
    "# create skos:Concept s for eschenburg\n",
    "\n",
    "for item in eschenburg_raw_data:\n",
    "    top_concept = create_concept_from_dict(item, base_uri=eschenburg_base_uri,concept_scheme=eschenburg)\n",
    "    eschenburg.skos_has_top_concept(top_concept)"
   ]
  },
  {
   "cell_type": "code",
   "execution_count": 9,
   "id": "4be5b557-d5f6-418c-93a8-195dbad7d921",
   "metadata": {},
   "outputs": [],
   "source": [
    "#print(eschenburg.serialize())"
   ]
  },
  {
   "cell_type": "code",
   "execution_count": 10,
   "id": "81e9bc6a-6672-4368-a755-5560f764178a",
   "metadata": {},
   "outputs": [],
   "source": [
    "# store it\n",
    "# eschenburg.store(folder = \"out\", filename = \"eschenburg_skos_concepts\")\n",
    "# instead of storing, add it to the joint graph\n",
    "eschenburg_g = eschenburg_g + eschenburg.dump()"
   ]
  },
  {
   "cell_type": "markdown",
   "id": "a746c599-173d-4fb1-abab-5385e54c48ed",
   "metadata": {},
   "source": [
    "### Some manual interventions to Eschenburg Concepts\n",
    "What does mean\n",
    "\n",
    "> IV. Das Drama überhaupt\n",
    "\n",
    "Don't know, but will add this as an alternative label; \n",
    "the rule of thumb could be: if a TOC heading is more than a Noun Phrase we record it as an alt Label\n",
    "Won't record \"Das Hirtengedicht\", only \"Hirtengedicht\" as prefLabel, but \"Das Drama überhaupt\" is more than just the article + noun.\n",
    "In the case of Eschenburg this is not such a big deal"
   ]
  },
  {
   "cell_type": "code",
   "execution_count": 11,
   "id": "a6e2414e-9cdd-4edd-b0c8-b39048105c56",
   "metadata": {},
   "outputs": [
    {
     "name": "stdout",
     "output_type": "stream",
     "text": [
      "@prefix skos: <http://www.w3.org/2004/02/skos/core#> .\n",
      "\n",
      "<https://genre.clscor.io/eschenburg/drama> a skos:Concept ;\n",
      "    skos:altLabel \"Das Drama überhaupt\"@de .\n",
      "\n",
      "\n"
     ]
    }
   ],
   "source": [
    "drama_ueberhaupt = SkosConcept(uri=eschenburg_base_uri+\"drama\") # be careful, this MUST result in the URI used above\n",
    "drama_ueberhaupt.skos_alt_label(\"Das Drama überhaupt\",\"de\")\n",
    "print(drama_ueberhaupt.serialize())"
   ]
  },
  {
   "cell_type": "code",
   "execution_count": 12,
   "id": "f63fcd0e-d20d-45ed-b6c5-aa26c90c4151",
   "metadata": {},
   "outputs": [],
   "source": [
    "# merge into eschenburg graph\n",
    "eschenburg_g = eschenburg_g + drama_ueberhaupt.dump()"
   ]
  },
  {
   "cell_type": "markdown",
   "id": "9928ff46-6dbc-4289-acd5-dc6411942aae",
   "metadata": {},
   "source": [
    "### Eschenburg Collections\n",
    "A parallel structure that tries to preserve parts of the semantic of the original TOC; we don't use `skos:OrderedCollection` at the moment because `rdf:List` is tricky.\n",
    "\n",
    "If there is a heading in the TOC that can not strictly mapped to a concept, a collection is created with the heading as prefLabel.\n",
    "\n",
    "An example follows below:"
   ]
  },
  {
   "cell_type": "code",
   "execution_count": 13,
   "id": "7942047b-2364-44cd-ac31-83f95d30c1a2",
   "metadata": {},
   "outputs": [
    {
     "data": {
      "text/plain": [
       "True"
      ]
     },
     "execution_count": 13,
     "metadata": {},
     "output_type": "execute_result"
    }
   ],
   "source": [
    "# V. Das Lehrgedicht, die beschreibende Poesie, die Epistel\n",
    "eschenburg_lehrgedicht_beschreibende_poesie_epistel = SkosCollection(uri=eschenburg_base_uri + \"collection/lehrgedicht_beschr_poesie_epistel\")\n",
    "eschenburg_lehrgedicht_beschreibende_poesie_epistel.skos_pref_label(\"Das Lehrgedicht, die beschreibende Poesie, die Epistel\",\"de\")\n",
    "eschenburg_lehrgedicht_member_ids = [\n",
    "    eschenburg_base_uri + \"lehrgedicht\",\n",
    "    eschenburg_base_uri + \"beschreibende_poesie\",\n",
    "    eschenburg_base_uri + \"epistel\"]\n",
    "\n",
    "eschenburg_lehrgedicht_beschreibende_poesie_epistel.skos_member(uris=eschenburg_lehrgedicht_member_ids)"
   ]
  },
  {
   "cell_type": "code",
   "execution_count": 14,
   "id": "7dc1ddd9-5bc4-4ada-a980-1dccadd55509",
   "metadata": {},
   "outputs": [
    {
     "name": "stdout",
     "output_type": "stream",
     "text": [
      "@prefix skos: <http://www.w3.org/2004/02/skos/core#> .\n",
      "\n",
      "<https://genre.clscor.io/eschenburg/collection/lehrgedicht_beschr_poesie_epistel> a skos:Collection ;\n",
      "    skos:member <https://genre.clscor.io/eschenburg/beschreibende_poesie>,\n",
      "        <https://genre.clscor.io/eschenburg/epistel>,\n",
      "        <https://genre.clscor.io/eschenburg/lehrgedicht> ;\n",
      "    skos:prefLabel \"Das Lehrgedicht, die beschreibende Poesie, die Epistel\"@de .\n",
      "\n",
      "\n"
     ]
    }
   ],
   "source": [
    "print(eschenburg_lehrgedicht_beschreibende_poesie_epistel.serialize())"
   ]
  },
  {
   "cell_type": "code",
   "execution_count": 15,
   "id": "e766a2f2-5b26-4bc6-97a2-999860b2394a",
   "metadata": {},
   "outputs": [],
   "source": [
    "#won't store it to separate file, but merge to the graph\n",
    "#eschenburg_lehrgedicht_beschreibende_poesie_epistel.store(folder = \"out\", filename = \"eschenburg_skos_collections\")\n",
    "eschenburg_g = eschenburg_g + eschenburg_lehrgedicht_beschreibende_poesie_epistel.dump()"
   ]
  },
  {
   "cell_type": "code",
   "execution_count": 16,
   "id": "3f43b567-f653-4772-a16e-612e9fc7d06c",
   "metadata": {},
   "outputs": [
    {
     "data": {
      "text/plain": [
       "<Graph identifier=N16b71fe2773a4902bc76122051820ce5 (<class 'rdflib.graph.Graph'>)>"
      ]
     },
     "execution_count": 16,
     "metadata": {},
     "output_type": "execute_result"
    }
   ],
   "source": [
    "#print(eschenburg_g.serialize())\n",
    "eschenburg_g.serialize(destination=\"out/eschenburg.ttl\")"
   ]
  },
  {
   "cell_type": "markdown",
   "id": "250a1194-f224-4b55-803b-ed9f6b856705",
   "metadata": {},
   "source": [
    "This should go to Graph:\n",
    "`https://genre.clscor.io/eschenburg/` Currently I am manually uploading it"
   ]
  },
  {
   "cell_type": "markdown",
   "id": "38401983-36ff-4471-aeca-1b2e5a43521b",
   "metadata": {},
   "source": [
    "## Friedrich Bouterwek: Aesthetik. Zweiter Theil. 2. Auflage. Göttingen 1815\n",
    "\n",
    "* Lyrische Dichtungsarten\n",
    "    1. Das Lied\n",
    "    2. Die Ode\n",
    "    3. Die romantische Canzone, das lyrische Sonett usw.\n",
    "    4. Die Elegie\n",
    "    5. Die lyrische Epistel\n",
    "* Didaktische Dichtungsarten\n",
    "    1. Die didaktische Satyre\n",
    "    2. Die didaktische Epistel\n",
    "    3. Das Spruchgedicht\n",
    "    4. Das ausführliche und vorzugsweise so genannte Lehrgedicht\n",
    "* Epische Dichtungsarten\n",
    "    1. Mancherlei erzählende Gedichte\n",
    "    2. Die epische Romanze und Ballade\n",
    "    3. Die Epopöe\n",
    "* Dramatische Dichtungsarten\n",
    "    1. Mancherlei bisher verkannte, oder noch zu wenig cultivirte dramatische Dichtungsarten\n",
    "    2. Das Melodram und die Oper\n",
    "    3. Das Lustspiel\n",
    "    4. Das Trauerspiel \n",
    "* Fünfte oder Ergänzungs-Classe\n",
    "    1. Das Hirtengedicht und die idyllische Poesie\n",
    "    2. Das beschreibende Gedicht\n",
    "    3. Das Epigramm\n",
    "    4. Die äsopische Fabel\n",
    "    5. Der Roman"
   ]
  },
  {
   "cell_type": "code",
   "execution_count": 17,
   "id": "d60f62fb-6dc6-4e11-bffe-92de19fcedcf",
   "metadata": {},
   "outputs": [],
   "source": [
    "# create the graph to collect the pieces of the SKOS\n",
    "bouterwek_g = Graph()"
   ]
  },
  {
   "cell_type": "code",
   "execution_count": 18,
   "id": "3e1d3105-aa43-4a73-8a5e-3a12e8f3730e",
   "metadata": {},
   "outputs": [],
   "source": [
    "bouterwek_raw_data = [\n",
    "\n",
    "    {\n",
    "        \"id\" : \"lyrische_dichtungsart\",\n",
    "        \"label\" : \"Lyrische Dichtungsart\",\n",
    "        \"narrower\" : [\n",
    "\n",
    "            {\n",
    "                \"id\" : \"lied\",\n",
    "                \"label\" : \"Lied\"\n",
    "            },\n",
    "            {\n",
    "                \"id\" : \"ode\",\n",
    "                \"label\" : \"Ode\"\n",
    "            },\n",
    "            {\n",
    "              \"id\" : \"romantische_canzone\",\n",
    "                \"label\" : \"Romantische Canzone\"\n",
    "            },\n",
    "            {\n",
    "                \"id\" : \"lyrisches_sonett\",\n",
    "                \"label\" : \"Lyrisches Sonett\"\n",
    "            },\n",
    "            {\n",
    "                \"id\" : \"elegie\",\n",
    "                \"label\" : \"Elegie\"\n",
    "            },\n",
    "            {\n",
    "                \"id\" : \"lyrische_epistel\",\n",
    "                \"label\" : \"Lyrische Epistel\"\n",
    "            }\n",
    "        ]\n",
    "    },\n",
    "    {\n",
    "        \"id\" : \"didaktische_dichtungsart\",\n",
    "        \"label\" : \"Didaktische Dichtungsart\",\n",
    "        \"narrower\" : [\n",
    "            {\n",
    "                \"id\" : \"didaktische_satyre\",\n",
    "                \"label\" : \"Didaktische Satyre\"\n",
    "            },\n",
    "            {\n",
    "                \"id\" : \"didaktische_epistel\",\n",
    "                \"label\" : \"Didaktische Epistel\"\n",
    "            },\n",
    "            {\n",
    "                \"id\" : \"spruchgedicht\",\n",
    "                \"label\" : \"Spruchgedicht\"\n",
    "            },\n",
    "            {\n",
    "                \"id\" : \"lehrgedicht\",\n",
    "                \"label\" : \"Lehrgedicht\"\n",
    "            }\n",
    "            \n",
    "        ]\n",
    "    },\n",
    "    {\n",
    "        \"id\" : \"epische_dichtungsart\",\n",
    "        \"label\" : \"Epische Dichtungsart\",\n",
    "        \"narrower\" : [\n",
    "            {\n",
    "                \"id\": \"erzaehlendes_gedicht\",\n",
    "            \"label\" : \"Erzählendes Gedicht\"\n",
    "            },\n",
    "            {\n",
    "                \"id\" : \"epische_romanze\",\n",
    "                \"label\" : \"Epische Romanze\" \n",
    "            },\n",
    "            {\n",
    "                \"id\" : \"ballade\",\n",
    "                \"label\" : \"Ballade\"\n",
    "            },\n",
    "            {\n",
    "                \"id\": \"epopoee\",\n",
    "                \"label\" : \"Epopöe\"\n",
    "            }\n",
    "            \n",
    "            \n",
    "        ]\n",
    "    },\n",
    "    {\n",
    "        \"id\" : \"dramatische_dichtungsart\",\n",
    "        \"label\" : \"Dramatische Dichtungsart\",\n",
    "        \"narrower\" : [\n",
    "            \n",
    "            {\n",
    "                \"id\" : \"melodram\",\n",
    "                \"label\" : \"Melodram\"\n",
    "            },\n",
    "            {\n",
    "                \"id\" : \"oper\",\n",
    "                \"label\" : \"Oper\"\n",
    "            },\n",
    "            {\n",
    "                \"id\" : \"lustspiel\",\n",
    "                \"label\" : \"Lustspiel\"\n",
    "            },\n",
    "            {\n",
    "                \"id\" : \"trauerspiel\",\n",
    "                \"label\" : \"Trauerspiel\"\n",
    "            }\n",
    "            \n",
    "        ]\n",
    "    },\n",
    "    {\n",
    "        \"id\" : \"hirtengedicht\",\n",
    "        \"label\" : \"Das Hirtengedicht und die idyllische Poesie\"\n",
    "    },\n",
    "    {\n",
    "        \"id\" : \"beschreibendes_gedicht\",\n",
    "        \"label\" : \"Beschreibendes Gedicht\"\n",
    "    },\n",
    "    {\n",
    "        \"id\" : \"epigramm\",\n",
    "        \"label\" : \"Epigramm\"\n",
    "    },\n",
    "    {\n",
    "        \"id\" : \"aesopische_fabel\",\n",
    "        \"label\" : \"Äsopische Fabel\"\n",
    "    },\n",
    "    {\n",
    "        \"id\" : \"roman\",\n",
    "        \"label\" : \"Roman\"\n",
    "    }\n",
    "]"
   ]
  },
  {
   "cell_type": "code",
   "execution_count": 19,
   "id": "05ba6895-8dab-4d82-ab72-65085f52d887",
   "metadata": {},
   "outputs": [],
   "source": [
    "bouterwek_base_uri = \"https://genre.clscor.io/bouterwek/\""
   ]
  },
  {
   "cell_type": "code",
   "execution_count": 20,
   "id": "02f55df9-2a50-4fff-bb8e-39e8db8c3490",
   "metadata": {},
   "outputs": [],
   "source": [
    "bouterwek = SkosConceptScheme(uri=bouterwek_base_uri)"
   ]
  },
  {
   "cell_type": "code",
   "execution_count": 21,
   "id": "b8d39e7a-ea2b-4ffd-b59b-898185e5cf15",
   "metadata": {},
   "outputs": [
    {
     "data": {
      "text/plain": [
       "True"
      ]
     },
     "execution_count": 21,
     "metadata": {},
     "output_type": "execute_result"
    }
   ],
   "source": [
    "bouterwek.rdfs_label(\"Bouterwek: Aesthetik. Zweiter Theil. 2. Auflage. Göttingen 1815 [Gattungssystem]\",\"de\")"
   ]
  },
  {
   "cell_type": "code",
   "execution_count": 22,
   "id": "8ad4ec2c-3943-40ae-845d-dc765240bbd7",
   "metadata": {},
   "outputs": [],
   "source": [
    "# create this for bouterwek\n",
    "\n",
    "for item in bouterwek_raw_data:\n",
    "    top_concept = create_concept_from_dict(item, base_uri=bouterwek_base_uri,concept_scheme=bouterwek)\n",
    "    bouterwek.skos_has_top_concept(top_concept)"
   ]
  },
  {
   "cell_type": "code",
   "execution_count": 23,
   "id": "6cb0645c-cfc1-4d3e-a04e-f90d52edf7b7",
   "metadata": {},
   "outputs": [],
   "source": [
    "# store it\n",
    "#bouterwek.store(folder = \"out\", filename = \"bouterwek_concepts\")\n",
    "bouterwek_g = bouterwek_g + bouterwek.dump()"
   ]
  },
  {
   "cell_type": "markdown",
   "id": "13755372-ee8c-43cc-9a58-54283e53c1c0",
   "metadata": {},
   "source": [
    "### Bouterwek Collections\n",
    "e.g. the infamous \"Fünfte Classe\""
   ]
  },
  {
   "cell_type": "code",
   "execution_count": 24,
   "id": "577817df-2615-458b-9cbf-07c74a73c395",
   "metadata": {},
   "outputs": [],
   "source": [
    "bouterweg_fuenfte_classe_raw = {\n",
    "        \"id\" : \"fuenfte_classe\",\n",
    "        \"label\": \"Fünfte oder Ergänzungs-Classe\",\n",
    "        \"narrower\" : [\n",
    "            {\n",
    "                \"id\" : \"hirtengedicht\",\n",
    "                \"label\" : \"Das Hirtengedicht und die idyllische Poesie\"\n",
    "            },\n",
    "            {\n",
    "                \"id\" : \"beschreibendes_gedicht\",\n",
    "                \"label\" : \"Beschreibendes Gedicht\"\n",
    "            },\n",
    "            {\n",
    "                \"id\" : \"epigramm\",\n",
    "                \"label\" : \"Epigramm\"\n",
    "            },\n",
    "            {\n",
    "                \"id\" : \"aesopische_fabel\",\n",
    "                \"label\" : \"Äsopische Fabel\"\n",
    "            },\n",
    "            {\n",
    "                \"id\" : \"roman\",\n",
    "                \"label\" : \"Roman\"\n",
    "            }\n",
    "                \n",
    "        ]\n",
    "    }"
   ]
  },
  {
   "cell_type": "code",
   "execution_count": 25,
   "id": "2f14ba54-83bc-4006-8a8c-cdabe20f303d",
   "metadata": {},
   "outputs": [],
   "source": [
    "bouterwek_fuenfte_classe = SkosCollection(uri=bouterwek_base_uri+\"collection/ergaenzungsclasse\")\n",
    "bouterwek_fuenfte_classe.skos_pref_label(\"Fünfte oder Ergänzungs-Classe\",\"de\")\n",
    "\n",
    "for item in bouterweg_fuenfte_classe_raw[\"narrower\"]:\n",
    "    bouterwek_fuenfte_classe.skos_member(uris=[bouterwek_base_uri + item[\"id\"]])"
   ]
  },
  {
   "cell_type": "code",
   "execution_count": 26,
   "id": "ede1f413-86da-44b1-9ba4-916b793bba63",
   "metadata": {},
   "outputs": [
    {
     "name": "stdout",
     "output_type": "stream",
     "text": [
      "@prefix skos: <http://www.w3.org/2004/02/skos/core#> .\n",
      "\n",
      "<https://genre.clscor.io/bouterwek/collection/ergaenzungsclasse> a skos:Collection ;\n",
      "    skos:member <https://genre.clscor.io/bouterwek/aesopische_fabel>,\n",
      "        <https://genre.clscor.io/bouterwek/beschreibendes_gedicht>,\n",
      "        <https://genre.clscor.io/bouterwek/epigramm>,\n",
      "        <https://genre.clscor.io/bouterwek/hirtengedicht>,\n",
      "        <https://genre.clscor.io/bouterwek/roman> ;\n",
      "    skos:prefLabel \"Fünfte oder Ergänzungs-Classe\"@de .\n",
      "\n",
      "\n"
     ]
    }
   ],
   "source": [
    "print(bouterwek_fuenfte_classe.serialize())"
   ]
  },
  {
   "cell_type": "code",
   "execution_count": 27,
   "id": "8939080a-58dd-4d91-981a-6821b1607eb5",
   "metadata": {},
   "outputs": [],
   "source": [
    "# add to main graph\n",
    "bouterwek_g = bouterwek_g + bouterwek_fuenfte_classe.dump() "
   ]
  },
  {
   "cell_type": "code",
   "execution_count": 28,
   "id": "cd0d3fd6-07f1-45be-b068-73ceb21c27f0",
   "metadata": {},
   "outputs": [],
   "source": [
    "#Die romantische Canzone, das lyrische Sonett usw."
   ]
  },
  {
   "cell_type": "code",
   "execution_count": 29,
   "id": "10dac733-cc15-4340-b60f-3675b97ec5a9",
   "metadata": {},
   "outputs": [
    {
     "name": "stdout",
     "output_type": "stream",
     "text": [
      "@prefix skos: <http://www.w3.org/2004/02/skos/core#> .\n",
      "\n",
      "<https://genre.clscor.io/bouterwek/collection/canzone_sonett_usw> a skos:Collection ;\n",
      "    skos:member <https://genre.clscor.io/bouterwek/lyrisches_sonett>,\n",
      "        <https://genre.clscor.io/bouterwek/romantische_canzone> ;\n",
      "    skos:prefLabel \"Die romantische Canzone, das lyrische Sonett usw.\"@de .\n",
      "\n",
      "\n"
     ]
    }
   ],
   "source": [
    "bouterwek_romantische_canzone_col = SkosCollection(uri=bouterwek_base_uri+ \"collection/canzone_sonett_usw\")\n",
    "bouterwek_romantische_canzone_col.skos_pref_label(\"Die romantische Canzone, das lyrische Sonett usw.\",\"de\")\n",
    "bouterwek_romantische_canzone_member_uris = [bouterwek_base_uri + \"lyrisches_sonett\", \n",
    "                                             bouterwek_base_uri + \"romantische_canzone\"]\n",
    "bouterwek_romantische_canzone_col.skos_member(uris=bouterwek_romantische_canzone_member_uris)\n",
    "print(bouterwek_romantische_canzone_col.serialize())"
   ]
  },
  {
   "cell_type": "code",
   "execution_count": 30,
   "id": "56243cc8-dbf4-4bda-a186-63ba3ec6bbf0",
   "metadata": {},
   "outputs": [],
   "source": [
    "bouterwek_g = bouterwek_g + bouterwek_romantische_canzone_col.dump()"
   ]
  },
  {
   "cell_type": "code",
   "execution_count": 31,
   "id": "51c5b2c9-7c34-4908-8fa1-1d8dfcd03a89",
   "metadata": {},
   "outputs": [],
   "source": [
    "# Mancherlei erzählende Gedichte\n",
    "mancherlei_erzaehlende_gedichte = SkosCollection(uri=bouterwek_base_uri+\"collection/mancherlei_erzaehlende_gedichte\")\n",
    "mancherlei_erzaehlende_gedichte.skos_pref_label(\"Mancherlei erzählende Gedichte\", \"de\")\n",
    "bouterwek_g = bouterwek_g + mancherlei_erzaehlende_gedichte.dump()"
   ]
  },
  {
   "cell_type": "code",
   "execution_count": 32,
   "id": "d056d630-21ad-47b3-a8f1-ef2ea55181de",
   "metadata": {},
   "outputs": [],
   "source": [
    "# Mancherlei bisher verkannte, oder noch zu wenig cultivirte dramatische Dichtungsarten\n",
    "mancherlei_dramatische_dichtungsarten = SkosCollection(uri=bouterwek_base_uri+\"collection/mancherlei_dramatische_dichtungsarten\")\n",
    "mancherlei_dramatische_dichtungsarten.skos_pref_label(\"Mancherlei bisher verkannte, oder noch zu wenig cultivirte dramatische Dichtungsarten\", \"de\")\n",
    "bouterwek_g = bouterwek_g + mancherlei_dramatische_dichtungsarten.dump()"
   ]
  },
  {
   "cell_type": "code",
   "execution_count": 33,
   "id": "26bdf76a-4cb8-462a-8894-8beea59caafa",
   "metadata": {},
   "outputs": [],
   "source": [
    "# Das Melodram und die Oper\n",
    "melodram_und_oper = SkosCollection(uri=bouterwek_base_uri+\"collection/melodram_oper\")\n",
    "melodram_und_oper.skos_pref_label(\"Das Melodram und die Oper\",\"de\")\n",
    "melodram_und_oper_uris = [bouterwek_base_uri+\"melodram\",bouterwek_base_uri+\"oper\"]\n",
    "melodram_und_oper.skos_member(uris=melodram_und_oper_uris)\n",
    "bouterwek_g = bouterwek_g + melodram_und_oper.dump()"
   ]
  },
  {
   "cell_type": "markdown",
   "id": "4753e131-8956-42ed-b9e2-b96195cad77f",
   "metadata": {},
   "source": [
    "### Some manual interventions to Bouterwek"
   ]
  },
  {
   "cell_type": "code",
   "execution_count": 34,
   "id": "40bac094-f069-4f25-b657-7d3bce9205cc",
   "metadata": {},
   "outputs": [],
   "source": [
    "# 4. Das ausführliche und vorzugsweise so genannte Lehrgedicht\n",
    "bouterwek_lehrgedicht = SkosConcept(uri=bouterwek_base_uri+\"lehrgedicht\")\n",
    "bouterwek_lehrgedicht.skos_alt_label(\"Das ausführliche und vorzugsweise so genannte Lehrgedicht\",\"de\")\n",
    "bouterwek_g = bouterwek_g + bouterwek_lehrgedicht.dump()"
   ]
  },
  {
   "cell_type": "code",
   "execution_count": 35,
   "id": "9e0785bd-a898-45d1-a7bf-170947600d3f",
   "metadata": {},
   "outputs": [
    {
     "data": {
      "text/plain": [
       "<Graph identifier=Nd4382ed95ad9484d92f44338994e2410 (<class 'rdflib.graph.Graph'>)>"
      ]
     },
     "execution_count": 35,
     "metadata": {},
     "output_type": "execute_result"
    }
   ],
   "source": [
    "bouterwek_g.serialize(destination=\"out/bouterwek.ttl\")"
   ]
  },
  {
   "cell_type": "markdown",
   "id": "96bda95d-4df0-4e84-b482-982e83ca2245",
   "metadata": {},
   "source": [
    "Upload to `https://genre.clscor.io/bouterwek/`"
   ]
  },
  {
   "cell_type": "markdown",
   "id": "31756138-6858-493a-97bb-50331a058b06",
   "metadata": {},
   "source": [
    "## Goehte: West-Östlicher Divan"
   ]
  },
  {
   "cell_type": "markdown",
   "id": "ebe69fc8-aa5b-42d3-8e26-2493072a6f84",
   "metadata": {},
   "source": [
    "Johann Wolfgang von Goethe: West-Östlicher Divan. Stuttgart 1819.\n",
    "\n",
    "It is not entirely clear how we are going to represent this genre system as SKOS; \"Naturform\" and \"Dichtsart\" as `skos:Concept` and `skos:topConcept` of the `skos:ConceptScheme`. An alternative would be to have the \"Dichtarten\" as a `skos:Collection`.\n",
    "\n",
    "Peer says:\n",
    "> Natrurformen: Concept, Dichtarten: Collection\n",
    "\n",
    "\t\t\n",
    "* Naturformen\t\n",
    "    * Epik\n",
    "    * Lyrik\n",
    "    * Drama\n",
    "* Dichtarten\t\n",
    "    * Allegorie\n",
    "    * Ballade\n",
    "    * Cantate\n",
    "    * Drama\n",
    "    * Elegie\n",
    "    * Epigramm\n",
    "    * Epistel\n",
    "    * Epopöe\n",
    "    * Erzählung\n",
    "\t* Fabel\n",
    "\t* Heroide\n",
    "\t* Idylle\n",
    "\t* Lehrgedicht\n",
    "\t* Ode\n",
    "\t* Parodie\n",
    "\t* Roman\n",
    "\t* Romanze\n",
    "\t* Satire"
   ]
  },
  {
   "cell_type": "code",
   "execution_count": 36,
   "id": "32b4a2f1-d4f3-4db7-a874-a0666b24ac2d",
   "metadata": {},
   "outputs": [],
   "source": [
    "# create a graph to collect generated pieces of the SKOS\n",
    "goethe_g = Graph()"
   ]
  },
  {
   "cell_type": "code",
   "execution_count": 37,
   "id": "931c7080-328e-4a23-86d0-837bad4f809e",
   "metadata": {},
   "outputs": [],
   "source": [
    "goethe_base_uri = \"https://genre.clscor.io/goethe/\""
   ]
  },
  {
   "cell_type": "code",
   "execution_count": 38,
   "id": "b09c5de9-6915-4074-9e1c-a677dc6f9aad",
   "metadata": {},
   "outputs": [
    {
     "data": {
      "text/plain": [
       "True"
      ]
     },
     "execution_count": 38,
     "metadata": {},
     "output_type": "execute_result"
    }
   ],
   "source": [
    "goethe_scheme = SkosConceptScheme(uri=goethe_base_uri)\n",
    "goethe_scheme.rdfs_label(\"Goethe: West-Östlicher Divan [Gattungssystem]\", \"de\")"
   ]
  },
  {
   "cell_type": "code",
   "execution_count": 39,
   "id": "97e3d4c5-d320-4f76-9bfe-c7f376c5f715",
   "metadata": {},
   "outputs": [],
   "source": [
    "goethe_g = goethe_g + goethe_scheme.dump()"
   ]
  },
  {
   "cell_type": "code",
   "execution_count": 40,
   "id": "2da7c72d-f960-46e8-a11d-cb354bda85f8",
   "metadata": {},
   "outputs": [],
   "source": [
    "goethe_dichtarten_raw = [\n",
    "    \"Allegorie\", \n",
    "    \"Ballade\",\n",
    "    \"Cantate\",\n",
    "    \"Drama\",\n",
    "    \"Elegie\",\n",
    "    \"Epigramm\",\n",
    "    \"Epistel\",\n",
    "    \"Epopöe\",\n",
    "    \"Erzählung\",\n",
    "    \"Fabel\",\n",
    "    \"Heroide\",\n",
    "    \"Idylle\",\n",
    "    \"Lehrgedicht\",\n",
    "    \"Ode\",\n",
    "    \"Parodie\",\n",
    "    \"Roman\",\n",
    "    \"Romanze\",\n",
    "    \"Satire\"\n",
    "]\n",
    "\n",
    "# There is \"Drama\" as well in \"Naturformen\" is Drama (Naturform) something else than Drama (Dichtart)?"
   ]
  },
  {
   "cell_type": "code",
   "execution_count": 41,
   "id": "03f93819-fabe-4159-b1e2-f4a4547fc5a8",
   "metadata": {},
   "outputs": [
    {
     "data": {
      "text/plain": [
       "True"
      ]
     },
     "execution_count": 41,
     "metadata": {},
     "output_type": "execute_result"
    }
   ],
   "source": [
    "# Create Dichtarten as a skos:Collection\n",
    "goethe_dichtarten_collection = SkosCollection(uri=goethe_base_uri+\"collection/dichtarten\")\n",
    "goethe_dichtarten_collection.skos_pref_label(\"Dichtarten\",\"de\")"
   ]
  },
  {
   "cell_type": "code",
   "execution_count": 42,
   "id": "f1cc7a18-ce9d-493c-b7fc-e83973263238",
   "metadata": {},
   "outputs": [],
   "source": [
    "for item in goethe_dichtarten_raw:\n",
    "    concept_uri = goethe_base_uri + item.lower().replace(\"ö\",\"oe\").replace(\"ä\",\"ae\")\n",
    "    concept = SkosConcept(uri=concept_uri)\n",
    "    concept.skos_pref_label(item,\"de\")\n",
    "    concept.skos_in_scheme(goethe_scheme)\n",
    "    # add it to the dichtarten collection\n",
    "    goethe_dichtarten_collection.skos_member(concept)"
   ]
  },
  {
   "cell_type": "code",
   "execution_count": 43,
   "id": "07e1eb61-a4a5-4da4-a7cd-d7f8284a5321",
   "metadata": {},
   "outputs": [],
   "source": [
    "# add this to the graph collection the parts of the skos\n",
    "goethe_g = goethe_g + goethe_dichtarten_collection.dump()"
   ]
  },
  {
   "cell_type": "code",
   "execution_count": 44,
   "id": "0acecb1d-dd48-46c6-aa81-d41b2fef980e",
   "metadata": {},
   "outputs": [
    {
     "data": {
      "text/plain": [
       "True"
      ]
     },
     "execution_count": 44,
     "metadata": {},
     "output_type": "execute_result"
    }
   ],
   "source": [
    "# Naturformen as Collection\n",
    "goethe_naturformen_collection = SkosCollection(uri=goethe_base_uri+\"collection/naturformen\")\n",
    "goethe_naturformen_collection.skos_pref_label(\"Naturformen\",\"de\")"
   ]
  },
  {
   "cell_type": "code",
   "execution_count": 45,
   "id": "a478e86d-1abb-4ece-b966-c60c25dde944",
   "metadata": {},
   "outputs": [],
   "source": [
    "#Epik, Lyrik, Drama\n",
    "# because of \"Drama\" will add a prefix \"naturform_\" to the id in the uri\n",
    "goethe_naturformen_raw = [\"Epik\", \"Lyrik\", \"Drama\"]\n",
    "\n",
    "for item in goethe_naturformen_raw:\n",
    "    concept_uri = goethe_base_uri + \"naturform_\" + item.lower()\n",
    "    concept = SkosConcept(uri=concept_uri)\n",
    "    concept.skos_pref_label(item,\"de\")\n",
    "    concept.skos_in_scheme(goethe_scheme)\n",
    "    goethe_naturformen_collection.skos_member(concept)"
   ]
  },
  {
   "cell_type": "code",
   "execution_count": 46,
   "id": "cf40d92c-52f2-44d4-bb99-5c5699decc36",
   "metadata": {},
   "outputs": [],
   "source": [
    "goethe_g = goethe_g + goethe_naturformen_collection.dump()"
   ]
  },
  {
   "cell_type": "code",
   "execution_count": 47,
   "id": "57b718f2-a7f1-40f9-9e82-4e6ef20d4e01",
   "metadata": {},
   "outputs": [
    {
     "name": "stdout",
     "output_type": "stream",
     "text": [
      "@prefix rdfs: <http://www.w3.org/2000/01/rdf-schema#> .\n",
      "@prefix skos: <http://www.w3.org/2004/02/skos/core#> .\n",
      "\n",
      "<https://genre.clscor.io/goethe/collection/dichtarten> a skos:Collection ;\n",
      "    skos:member <https://genre.clscor.io/goethe/allegorie>,\n",
      "        <https://genre.clscor.io/goethe/ballade>,\n",
      "        <https://genre.clscor.io/goethe/cantate>,\n",
      "        <https://genre.clscor.io/goethe/drama>,\n",
      "        <https://genre.clscor.io/goethe/elegie>,\n",
      "        <https://genre.clscor.io/goethe/epigramm>,\n",
      "        <https://genre.clscor.io/goethe/epistel>,\n",
      "        <https://genre.clscor.io/goethe/epopoee>,\n",
      "        <https://genre.clscor.io/goethe/erzaehlung>,\n",
      "        <https://genre.clscor.io/goethe/fabel>,\n",
      "        <https://genre.clscor.io/goethe/heroide>,\n",
      "        <https://genre.clscor.io/goethe/idylle>,\n",
      "        <https://genre.clscor.io/goethe/lehrgedicht>,\n",
      "        <https://genre.clscor.io/goethe/ode>,\n",
      "        <https://genre.clscor.io/goethe/parodie>,\n",
      "        <https://genre.clscor.io/goethe/roman>,\n",
      "        <https://genre.clscor.io/goethe/romanze>,\n",
      "        <https://genre.clscor.io/goethe/satire> ;\n",
      "    skos:prefLabel \"Dichtarten\"@de .\n",
      "\n",
      "<https://genre.clscor.io/goethe/collection/naturformen> a skos:Collection ;\n",
      "    skos:member <https://genre.clscor.io/goethe/naturform_drama>,\n",
      "        <https://genre.clscor.io/goethe/naturform_epik>,\n",
      "        <https://genre.clscor.io/goethe/naturform_lyrik> ;\n",
      "    skos:prefLabel \"Naturformen\"@de .\n",
      "\n",
      "<https://genre.clscor.io/goethe/allegorie> a skos:Concept ;\n",
      "    skos:inScheme <https://genre.clscor.io/goethe/> ;\n",
      "    skos:prefLabel \"Allegorie\"@de .\n",
      "\n",
      "<https://genre.clscor.io/goethe/ballade> a skos:Concept ;\n",
      "    skos:inScheme <https://genre.clscor.io/goethe/> ;\n",
      "    skos:prefLabel \"Ballade\"@de .\n",
      "\n",
      "<https://genre.clscor.io/goethe/cantate> a skos:Concept ;\n",
      "    skos:inScheme <https://genre.clscor.io/goethe/> ;\n",
      "    skos:prefLabel \"Cantate\"@de .\n",
      "\n",
      "<https://genre.clscor.io/goethe/drama> a skos:Concept ;\n",
      "    skos:inScheme <https://genre.clscor.io/goethe/> ;\n",
      "    skos:prefLabel \"Drama\"@de .\n",
      "\n",
      "<https://genre.clscor.io/goethe/elegie> a skos:Concept ;\n",
      "    skos:inScheme <https://genre.clscor.io/goethe/> ;\n",
      "    skos:prefLabel \"Elegie\"@de .\n",
      "\n",
      "<https://genre.clscor.io/goethe/epigramm> a skos:Concept ;\n",
      "    skos:inScheme <https://genre.clscor.io/goethe/> ;\n",
      "    skos:prefLabel \"Epigramm\"@de .\n",
      "\n",
      "<https://genre.clscor.io/goethe/epistel> a skos:Concept ;\n",
      "    skos:inScheme <https://genre.clscor.io/goethe/> ;\n",
      "    skos:prefLabel \"Epistel\"@de .\n",
      "\n",
      "<https://genre.clscor.io/goethe/epopoee> a skos:Concept ;\n",
      "    skos:inScheme <https://genre.clscor.io/goethe/> ;\n",
      "    skos:prefLabel \"Epopöe\"@de .\n",
      "\n",
      "<https://genre.clscor.io/goethe/erzaehlung> a skos:Concept ;\n",
      "    skos:inScheme <https://genre.clscor.io/goethe/> ;\n",
      "    skos:prefLabel \"Erzählung\"@de .\n",
      "\n",
      "<https://genre.clscor.io/goethe/fabel> a skos:Concept ;\n",
      "    skos:inScheme <https://genre.clscor.io/goethe/> ;\n",
      "    skos:prefLabel \"Fabel\"@de .\n",
      "\n",
      "<https://genre.clscor.io/goethe/heroide> a skos:Concept ;\n",
      "    skos:inScheme <https://genre.clscor.io/goethe/> ;\n",
      "    skos:prefLabel \"Heroide\"@de .\n",
      "\n",
      "<https://genre.clscor.io/goethe/idylle> a skos:Concept ;\n",
      "    skos:inScheme <https://genre.clscor.io/goethe/> ;\n",
      "    skos:prefLabel \"Idylle\"@de .\n",
      "\n",
      "<https://genre.clscor.io/goethe/lehrgedicht> a skos:Concept ;\n",
      "    skos:inScheme <https://genre.clscor.io/goethe/> ;\n",
      "    skos:prefLabel \"Lehrgedicht\"@de .\n",
      "\n",
      "<https://genre.clscor.io/goethe/naturform_drama> a skos:Concept ;\n",
      "    skos:inScheme <https://genre.clscor.io/goethe/> ;\n",
      "    skos:prefLabel \"Drama\"@de .\n",
      "\n",
      "<https://genre.clscor.io/goethe/naturform_epik> a skos:Concept ;\n",
      "    skos:inScheme <https://genre.clscor.io/goethe/> ;\n",
      "    skos:prefLabel \"Epik\"@de .\n",
      "\n",
      "<https://genre.clscor.io/goethe/naturform_lyrik> a skos:Concept ;\n",
      "    skos:inScheme <https://genre.clscor.io/goethe/> ;\n",
      "    skos:prefLabel \"Lyrik\"@de .\n",
      "\n",
      "<https://genre.clscor.io/goethe/ode> a skos:Concept ;\n",
      "    skos:inScheme <https://genre.clscor.io/goethe/> ;\n",
      "    skos:prefLabel \"Ode\"@de .\n",
      "\n",
      "<https://genre.clscor.io/goethe/parodie> a skos:Concept ;\n",
      "    skos:inScheme <https://genre.clscor.io/goethe/> ;\n",
      "    skos:prefLabel \"Parodie\"@de .\n",
      "\n",
      "<https://genre.clscor.io/goethe/roman> a skos:Concept ;\n",
      "    skos:inScheme <https://genre.clscor.io/goethe/> ;\n",
      "    skos:prefLabel \"Roman\"@de .\n",
      "\n",
      "<https://genre.clscor.io/goethe/romanze> a skos:Concept ;\n",
      "    skos:inScheme <https://genre.clscor.io/goethe/> ;\n",
      "    skos:prefLabel \"Romanze\"@de .\n",
      "\n",
      "<https://genre.clscor.io/goethe/satire> a skos:Concept ;\n",
      "    skos:inScheme <https://genre.clscor.io/goethe/> ;\n",
      "    skos:prefLabel \"Satire\"@de .\n",
      "\n",
      "<https://genre.clscor.io/goethe/> a skos:ConceptScheme ;\n",
      "    rdfs:label \"Goethe: West-Östlicher Divan [Gattungssystem]\"@de .\n",
      "\n",
      "\n"
     ]
    }
   ],
   "source": [
    "print(goethe_g.serialize())"
   ]
  },
  {
   "cell_type": "code",
   "execution_count": 48,
   "id": "a7f4e49f-6a43-4c98-82d6-85e713776489",
   "metadata": {},
   "outputs": [
    {
     "data": {
      "text/plain": [
       "<Graph identifier=N3b2a1d046a8a4bcba472ae9dc3f149de (<class 'rdflib.graph.Graph'>)>"
      ]
     },
     "execution_count": 48,
     "metadata": {},
     "output_type": "execute_result"
    }
   ],
   "source": [
    "goethe_g.serialize(destination=\"out/goethe.ttl\")"
   ]
  },
  {
   "cell_type": "markdown",
   "id": "1ab27b8f-5df6-4017-9689-14901ab53b40",
   "metadata": {},
   "source": [
    "Upload to named graph `https://genre.clscor.io/goethe/`"
   ]
  },
  {
   "cell_type": "code",
   "execution_count": null,
   "id": "fc7b2db7-ca1c-448c-af74-2aa5c8e12128",
   "metadata": {},
   "outputs": [],
   "source": []
  }
 ],
 "metadata": {
  "kernelspec": {
   "display_name": "Python 3 (ipykernel)",
   "language": "python",
   "name": "python3"
  },
  "language_info": {
   "codemirror_mode": {
    "name": "ipython",
    "version": 3
   },
   "file_extension": ".py",
   "mimetype": "text/x-python",
   "name": "python",
   "nbconvert_exporter": "python",
   "pygments_lexer": "ipython3",
   "version": "3.11.3"
  }
 },
 "nbformat": 4,
 "nbformat_minor": 5
}
