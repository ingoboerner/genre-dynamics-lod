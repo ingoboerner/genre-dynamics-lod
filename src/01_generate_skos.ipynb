{
 "cells": [
  {
   "cell_type": "code",
   "execution_count": null,
   "id": "c84d56c5-c07c-419a-9ddb-a34d5431c0bf",
   "metadata": {},
   "outputs": [],
   "source": [
    "# import helper classes\n",
    "from dlod.cidoc import E55Type\n",
    "from dlod.skos import SkosConceptScheme, SkosConcept"
   ]
  },
  {
   "cell_type": "markdown",
   "id": "6163b9df-44d5-40f2-a8fa-234e1e493422",
   "metadata": {},
   "source": [
    "## Johann Joachim Eschenburg: Entwurf einer Theorie und Literatur der schönen Redekünste. Zur Grundlage bei Vorlesungen. 4. Auflage. Berlin/Stettin 1817.\n",
    "\n",
    "* Epische Dichtungsarten\t\n",
    "    * I. Poetische Erzählung\n",
    "        * 1. Aesopische Fabel\n",
    "        * 2. Poetische Erzählung\n",
    "        * 3. Allegorische Erzählung\n",
    "    * II. Das Hirtengedicht\n",
    "    * III. Das Epigramm\n",
    "    * IV. Die Satire\n",
    "    * V. Das Lehrgedicht, die beschreibende Poesie, die Epistel\n",
    "    * VI. Die Elegie\n",
    "    * VII. Die lyrische Poesie\n",
    "    * VIII. Das Heldengedicht\n",
    "    * IX. Der Roman\n",
    "* Dramatische Dichtungsarten\n",
    "    * I. Das poetische Gespräch\n",
    "    * II. Die Heroide\n",
    "    * III. Die Kantate\n",
    "    * IV. Das Drama überhaupt\n",
    "    * V. Das Lustspiel\n",
    "    * VI. Das Trauerspiel\n",
    "    * VII. Die Oper "
   ]
  },
  {
   "cell_type": "markdown",
   "id": "39d7bc28-3bc4-4714-bba7-345487b4763d",
   "metadata": {},
   "source": [
    "We need this in a structure that we can work with. Therefore we \"convert\" it to a list with nested dictionaries. Later on we would need a parser for a YAML file or whatever format it is convenient to generate as input."
   ]
  },
  {
   "cell_type": "code",
   "execution_count": null,
   "id": "9c4ff594-7cb6-4af5-b730-826aaeca9ea9",
   "metadata": {},
   "outputs": [],
   "source": [
    "eschenburg_raw_data = [\n",
    "\n",
    "    {\n",
    "        \"id\" : \"epische_dichtungsart\",\n",
    "        \"label\" : \"Epische Dichtungsart\",\n",
    "        \"narrower\" : [\n",
    "                {\n",
    "                    \"id\" : \"poetische_erzaehlung\",\n",
    "                    \"label\" : \"Poetische Erzählung\",\n",
    "                    \"narrower\" : [\n",
    "\n",
    "                            \n",
    "                            {\n",
    "                                \"id\" : \"aesopische_fabel\",\n",
    "                                \"label\" : \"Aesopische Fabel\"\n",
    "                            },\n",
    "                            {\n",
    "                                \"id\" : \"poetische_erzaehlung\",\n",
    "                                \"label\" : \"Poetische Erzählung\"\n",
    "                            },\n",
    "                            {\n",
    "                                \"id\" : \"allegorische_erzaehlung\",\n",
    "                                \"label\" : \"Allegorische Erzählung\"\n",
    "                            }\n",
    "                                \n",
    "                             \n",
    "                        ]\n",
    "                },\n",
    "                {\n",
    "                    \"id\" : \"hirtengedicht\",\n",
    "                    \"label\" : \"Hirtengedicht\"\n",
    "                },\n",
    "                {\n",
    "                    \"id\" : \"epigramm\",\n",
    "                    \"label\" : \"Epigramm\"\n",
    "                },\n",
    "                {\n",
    "                    \"id\" : \"satire\",\n",
    "                    \"label\" : \"Satire\"\n",
    "                },\n",
    "                {\n",
    "                    \"id\" : \"lehrgedicht\",\n",
    "                    \"label\" : \"Lehrgedicht [unklar: Das Lehrgedicht, die beschreibende Poesie, die Epistel]\"\n",
    "                },\n",
    "                {\n",
    "                    \"id\" : \"elegie\",\n",
    "                    \"label\" : \"Elegie\"\n",
    "                },\n",
    "                {\n",
    "                    \"id\" : \"lyrische_poesie\",\n",
    "                    \"label\" : \"Lyrische Poesie\"\n",
    "                },\n",
    "                {\n",
    "                    \"id\" : \"heldengedicht\",\n",
    "                    \"label\" : \"Heldengedicht\"\n",
    "                },\n",
    "                {\n",
    "                    \"id\" : \"roman\",\n",
    "                    \"label\" : \"Roman\"\n",
    "                }\n",
    "    \n",
    "            ]\n",
    "    },\n",
    "\n",
    "    {\n",
    "        \"id\" : \"dramatische_dichtungsart\",\n",
    "        \"label\" : \"Dramatische Dichtungsart\",\n",
    "        \"narrower\" : [\n",
    "                {\n",
    "                    \"id\" : \"poetisches_gespraech\",\n",
    "                    \"label\" : \"Poetisches Gespräch\"\n",
    "                },\n",
    "                {\n",
    "                    \"id\" : \"heroide\",\n",
    "                    \"label\" : \"Heroide\"\n",
    "                },\n",
    "                {\n",
    "                    \"id\" : \"kantate\",\n",
    "                    \"label\" : \"Kantate\"\n",
    "                },\n",
    "                {\n",
    "                    \"id\" : \"drama\",\n",
    "                    \"label\" : \"Drama\"\n",
    "                },\n",
    "                {\n",
    "                    \"id\" : \"lustspiel\",\n",
    "                    \"label\" : \"Lustspiel\"\n",
    "                },\n",
    "                {\n",
    "                    \"id\" : \"trauerspiel\",\n",
    "                    \"label\" : \"Trauerspiel\"\n",
    "                },\n",
    "                {\n",
    "                    \"id\" : \"oper\",\n",
    "                    \"label\" : \"Oper\"\n",
    "                }\n",
    "            ]\n",
    "    }\n",
    "    \n",
    "]"
   ]
  },
  {
   "cell_type": "code",
   "execution_count": null,
   "id": "6177683b-cb05-4f3e-b867-768f2f462c0a",
   "metadata": {},
   "outputs": [],
   "source": [
    "eschenburg_base_uri = \"https://genre.dracor.org/eschenburg/\""
   ]
  },
  {
   "cell_type": "code",
   "execution_count": null,
   "id": "dd33b43a-d9f9-4c52-a58d-942155e0fe38",
   "metadata": {},
   "outputs": [],
   "source": [
    "eschenburg = SkosConceptScheme(uri=eschenburg_base_uri)"
   ]
  },
  {
   "cell_type": "code",
   "execution_count": null,
   "id": "b06ce77e-7923-4abc-adc5-c3a4dbedbb8e",
   "metadata": {},
   "outputs": [],
   "source": [
    "eschenburg.rdfs_label(\"Eschenburg: Entwurf einer Theorie und Literatur der schönen Redekünste [Gattungssystem]\", \"de\")"
   ]
  },
  {
   "cell_type": "code",
   "execution_count": null,
   "id": "f70214ac-cac2-4a73-99eb-c8e7c2be8386",
   "metadata": {},
   "outputs": [],
   "source": [
    "# just a test\n",
    "\n",
    "#epische_Dichtungsart = SkosConcept(uri=eschenburg_base_uri + \"epische_dichtungsart\")\n",
    "#epische_Dichtungsart.skos_pref_label(\"Epische Dichtungsart\", \"de\")\n",
    "#hirtengedicht = SkosConcept(uri=eschenburg_base_uri + \"hirtengedicht\")\n",
    "#hirtengedicht.skos_pref_label(\"Hirtengedicht\",\"de\")\n",
    "#epische_Dichtungsart.skos_narrower(hirtengedicht)\n",
    "#eschenburg.skos_has_top_concept(epische_Dichtungsart)\n",
    "#print(eschenburg.serialize())"
   ]
  },
  {
   "cell_type": "code",
   "execution_count": null,
   "id": "eb0aa6d0-9f48-4346-a8ee-1d6fc0c6e2f2",
   "metadata": {},
   "outputs": [],
   "source": [
    "def create_concept_from_dict(data:dict, base_uri:str, concept_scheme:SkosConceptScheme):\n",
    "    \"\"\"Takes a dictionary with id, label and narrower concept and create the skos:Concept\"\"\"\n",
    "\n",
    "    concept_uri = base_uri + data[\"id\"]\n",
    "    concept = SkosConcept(uri=concept_uri)\n",
    "    concept.skos_pref_label(data[\"label\"], \"de\")\n",
    "    concept.skos_in_scheme(concept_scheme)\n",
    "\n",
    "    if \"narrower\" in data:\n",
    "        for item in data[\"narrower\"]:\n",
    "            narrow_concept = create_concept_from_dict(item, base_uri=base_uri, concept_scheme=concept_scheme)\n",
    "            concept.skos_narrower(narrow_concept)\n",
    "\n",
    "    return concept\n",
    "\n",
    "    "
   ]
  },
  {
   "cell_type": "code",
   "execution_count": null,
   "id": "ecc3d10a-b49e-463f-b4c0-b106ce899c00",
   "metadata": {},
   "outputs": [],
   "source": [
    "# test it\n",
    "\"\"\"test_input = {\n",
    "                    \"id\" : \"lustspiel\",\n",
    "                    \"label\" : \"Lustspiel\"\n",
    "                }\n",
    "test_output = create_concept_from_dict(test_input, base_uri=eschenburg_base_uri)\n",
    "print(test_output.serialize())\n",
    "\"\"\""
   ]
  },
  {
   "cell_type": "code",
   "execution_count": null,
   "id": "b6891b3b-d9fc-494f-9ff2-0955a3d7e5cc",
   "metadata": {},
   "outputs": [],
   "source": [
    "# create this for eschenburg\n",
    "\n",
    "for item in eschenburg_raw_data:\n",
    "    top_concept = create_concept_from_dict(item, base_uri=eschenburg_base_uri,concept_scheme=eschenburg)\n",
    "    eschenburg.skos_has_top_concept(top_concept)"
   ]
  },
  {
   "cell_type": "code",
   "execution_count": null,
   "id": "4be5b557-d5f6-418c-93a8-195dbad7d921",
   "metadata": {},
   "outputs": [],
   "source": [
    "print(eschenburg.serialize())"
   ]
  },
  {
   "cell_type": "code",
   "execution_count": null,
   "id": "81e9bc6a-6672-4368-a755-5560f764178a",
   "metadata": {},
   "outputs": [],
   "source": [
    "# store it\n",
    "eschenburg.store(folder = \"out\", filename = \"eschenburg\")"
   ]
  },
  {
   "cell_type": "markdown",
   "id": "250a1194-f224-4b55-803b-ed9f6b856705",
   "metadata": {},
   "source": [
    "This should go to Graph:\n",
    "`https://genre.dracor.org/eschenburg/`"
   ]
  },
  {
   "cell_type": "markdown",
   "id": "38401983-36ff-4471-aeca-1b2e5a43521b",
   "metadata": {},
   "source": [
    "## Friedrich Bouterwek: Aesthetik. Zweiter Theil. 2. Auflage. Göttingen 1815\n",
    "\n",
    "* Lyrische Dichtungsarten\n",
    "    1. Das Lied\n",
    "    2. Die Ode\n",
    "    3. Die romantische Canzone, das lyrische Sonett usw.\n",
    "    4. Die Elegie\n",
    "    5. Die lyrische Epistel\n",
    "* Didaktische Dichtungsarten\n",
    "    1. Die didaktische Satyre\n",
    "    2. Die didaktische Epistel\n",
    "    3. Das Spruchgedicht\n",
    "    4. Das ausführliche und vorzugsweise so genannte Lehrgedicht\n",
    "* Epische Dichtungsarten\n",
    "    1. Mancherlei erzählende Gedichte\n",
    "    2. Die epische Romanze und Ballade\n",
    "    3. Die Epopöe\n",
    "* Dramatische Dichtungsarten\n",
    "    1. Mancherlei bisher verkannte, oder noch zu wenig cultivirte dramatische Dichtungsarten\n",
    "    2. Das Melodram und die Oper\n",
    "    3. Das Lustspiel\n",
    "    4. Das Trauerspiel \n",
    "* Fünfte oder Ergänzungs-Classe\n",
    "    1. Das Hirtengedicht und die idyllische Poesie\n",
    "    2. Das beschreibende Gedicht\n",
    "    3. Das Epigramm\n",
    "    4. Die äsopische Fabel\n",
    "    5. Der Roman"
   ]
  },
  {
   "cell_type": "code",
   "execution_count": null,
   "id": "3e1d3105-aa43-4a73-8a5e-3a12e8f3730e",
   "metadata": {},
   "outputs": [],
   "source": [
    "bouterwek_raw_data = [\n",
    "\n",
    "    {\n",
    "        \"id\" : \"lyrische_dichtungsart\",\n",
    "        \"label\" : \"Lyrische Dichtungsart\",\n",
    "        \"narrower\" : [\n",
    "\n",
    "            {\n",
    "                \"id\" : \"lied\",\n",
    "                \"label\" : \"Lied\"\n",
    "            },\n",
    "            {\n",
    "                \"id\" : \"ode\",\n",
    "                \"label\" : \"Ode\"\n",
    "            },\n",
    "            {\n",
    "              \"id\" : \"romantische_canzone\",\n",
    "                \"label\" : \"Die romantische Canzone, das lyrische Sonett usw.\"\n",
    "            },\n",
    "            {\n",
    "                \"id\" : \"elegie\",\n",
    "                \"label\" : \"Elegie\"\n",
    "            },\n",
    "            {\n",
    "                \"id\" : \"lyrische_epistel\",\n",
    "                \"label\" : \"lyrische Epistel\"\n",
    "            }\n",
    "        ]\n",
    "    },\n",
    "    {\n",
    "        \"id\" : \"didaktische_dichtungsart\",\n",
    "        \"label\" : \"Didaktische Dichtungsart\",\n",
    "        \"narrower\" : [\n",
    "            {\n",
    "                \"id\" : \"didaktische_satyre\",\n",
    "                \"label\" : \"Didaktische Satyre\"\n",
    "            },\n",
    "            {\n",
    "                \"id\" : \"didaktische_epistel\",\n",
    "                \"label\" : \"Didaktische Epistel\"\n",
    "            },\n",
    "            {\n",
    "                \"id\" : \"spruchgedicht\",\n",
    "                \"label\" : \"Spruchgedicht\"\n",
    "            },\n",
    "            {\n",
    "                \"id\" : \"lehrgedicht\",\n",
    "                \"label\" : \"Das ausführliche und vorzugsweise so genannte Lehrgedicht\"\n",
    "            }\n",
    "            \n",
    "        ]\n",
    "    },\n",
    "    {\n",
    "        \"id\" : \"epische_dichtungsart\",\n",
    "        \"label\" : \"Epische Dichtungsart\",\n",
    "        \"narrower\" : [\n",
    "            {\n",
    "                \"id\": \"erzaehlendes_gedicht\",\n",
    "            \"label\" : \"Erzählendes Gedicht\"\n",
    "            },\n",
    "            {\n",
    "                \"id\" : \"epische_romanze\",\n",
    "                \"label\" : \"Epische Romanze\" \n",
    "            },\n",
    "            {\n",
    "                \"id\": \"epopoee\",\n",
    "                \"label\" : \"Epopöe\"\n",
    "            }\n",
    "            \n",
    "            \n",
    "        ]\n",
    "    },\n",
    "    {\n",
    "        \"id\" : \"dramatische_dichtungsart\",\n",
    "        \"label\" : \"Dramatische Dichtungsart\",\n",
    "        \"narrower\" : [\n",
    "            \n",
    "            {\n",
    "                \"id\" : \"melodram\",\n",
    "                \"label\" : \"Melodram\"\n",
    "            },\n",
    "            {\n",
    "                \"id\" : \"lustspiel\",\n",
    "                \"label\" : \"lustspiel\"\n",
    "            },\n",
    "            {\n",
    "                \"id\" : \"trauerspiel\",\n",
    "                \"label\" : \"trauerspiel\"\n",
    "            }\n",
    "            \n",
    "        ]\n",
    "    },\n",
    "    {\n",
    "        \"id\" : \"fuenfte_classe\",\n",
    "        \"label\": \"Fünfte oder Ergänzungs-Classe\",\n",
    "        \"narrower\" : [\n",
    "            {\n",
    "                \"id\" : \"hirtengedicht\",\n",
    "                \"label\" : \"Das Hirtengedicht und die idyllische Poesie\"\n",
    "            },\n",
    "            {\n",
    "                \"id\" : \"beschreibendes_gedicht\",\n",
    "                \"label\" : \"Beschreibendes Gedicht\"\n",
    "            },\n",
    "            {\n",
    "                \"id\" : \"epigramm\",\n",
    "                \"label\" : \"Epigramm\"\n",
    "            },\n",
    "            {\n",
    "                \"id\" : \"aesopische_fabel\",\n",
    "                \"label\" : \"äsopische Fabel\"\n",
    "            },\n",
    "            {\n",
    "                \"id\" : \"roman\",\n",
    "                \"label\" : \"Roman\"\n",
    "            }\n",
    "                \n",
    "        ]\n",
    "    }\n",
    "]"
   ]
  },
  {
   "cell_type": "code",
   "execution_count": null,
   "id": "05ba6895-8dab-4d82-ab72-65085f52d887",
   "metadata": {},
   "outputs": [],
   "source": [
    "bouterwek_base_uri = \"https://genre.dracor.org/bouterwek/\""
   ]
  },
  {
   "cell_type": "code",
   "execution_count": null,
   "id": "02f55df9-2a50-4fff-bb8e-39e8db8c3490",
   "metadata": {},
   "outputs": [],
   "source": [
    "bouterwek = SkosConceptScheme(uri=bouterwek_base_uri)"
   ]
  },
  {
   "cell_type": "code",
   "execution_count": null,
   "id": "b8d39e7a-ea2b-4ffd-b59b-898185e5cf15",
   "metadata": {},
   "outputs": [],
   "source": [
    "bouterwek.rdfs_label(\"Bouterwek: Aesthetik. Zweiter Theil. 2. Auflage. Göttingen 1815 [Gattungssystem]\",\"de\")"
   ]
  },
  {
   "cell_type": "code",
   "execution_count": null,
   "id": "8ad4ec2c-3943-40ae-845d-dc765240bbd7",
   "metadata": {},
   "outputs": [],
   "source": [
    "# create this for bouterwek\n",
    "\n",
    "for item in bouterwek_raw_data:\n",
    "    top_concept = create_concept_from_dict(item, base_uri=bouterwek_base_uri,concept_scheme=bouterwek)\n",
    "    bouterwek.skos_has_top_concept(top_concept)"
   ]
  },
  {
   "cell_type": "code",
   "execution_count": null,
   "id": "6cb0645c-cfc1-4d3e-a04e-f90d52edf7b7",
   "metadata": {},
   "outputs": [],
   "source": [
    "# store it\n",
    "bouterwek.store(folder = \"out\", filename = \"bouterwek\")"
   ]
  },
  {
   "cell_type": "markdown",
   "id": "6b630e9e-b9af-4310-88e3-23946d5aa522",
   "metadata": {},
   "source": [
    "## Problems; or why we should introduce collections\n",
    "\n",
    "* can we infer that there is such a concept as \"Lyrische Dichtungsart\" if there is an item in the TOC \"Lyrische Dichtungsarten\"?\n",
    "* these might be considered as collections instead of concepts; and then we add concepts; but this will/might break the hierarchy\n",
    "* concepts and collections are disjoint classes!\n",
    "* how we go about headings: \"Die romantische Canzone, das lyrische Sonett usw.\" – there are obviously more concepts here: \"romantische Canzone\", \"Lyrisches Sonett\"; should this be modeled as a collection or separate concepts on the same level in the upper collection"
   ]
  },
  {
   "cell_type": "markdown",
   "id": "dc70f871-d771-42b3-a4d5-23a32cc2272d",
   "metadata": {},
   "source": [
    "## Mappings\n",
    "\n",
    "Not a complete set of mappings, just to test it here:"
   ]
  },
  {
   "cell_type": "code",
   "execution_count": null,
   "id": "c546d372-6a53-44e2-9458-b25536040b33",
   "metadata": {},
   "outputs": [],
   "source": [
    "bouterwek_elegie = SkosConcept(uri=\"https://genre.dracor.org/bouterwek/elegie\")\n",
    "eschenburg_elegie = SkosConcept(uri=\"https://genre.dracor.org/eschenburg/elegie\")"
   ]
  },
  {
   "cell_type": "code",
   "execution_count": null,
   "id": "c7cc5fb2-ea67-4f7b-8990-31d75e4c1020",
   "metadata": {},
   "outputs": [],
   "source": [
    "bouterwek_elegie.skos_exact_match(eschenburg_elegie)"
   ]
  },
  {
   "cell_type": "code",
   "execution_count": null,
   "id": "f8e71f32-cc35-4fce-96aa-405a8d2f4eda",
   "metadata": {},
   "outputs": [],
   "source": [
    "bouterwek_elegie.store(folder = \"out\", filename=\"bouterwek_eschenburg_mapping\")"
   ]
  },
  {
   "cell_type": "code",
   "execution_count": null,
   "id": "601c87b7-bf2e-4bbd-828b-29d5f1511236",
   "metadata": {},
   "outputs": [],
   "source": []
  }
 ],
 "metadata": {
  "kernelspec": {
   "display_name": "Python 3 (ipykernel)",
   "language": "python",
   "name": "python3"
  },
  "language_info": {
   "codemirror_mode": {
    "name": "ipython",
    "version": 3
   },
   "file_extension": ".py",
   "mimetype": "text/x-python",
   "name": "python",
   "nbconvert_exporter": "python",
   "pygments_lexer": "ipython3",
   "version": "3.11.3"
  }
 },
 "nbformat": 4,
 "nbformat_minor": 5
}
