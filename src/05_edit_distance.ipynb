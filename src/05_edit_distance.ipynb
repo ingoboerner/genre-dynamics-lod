{
 "cells": [
  {
   "cell_type": "markdown",
   "id": "7f2b3a07-528f-4281-92c1-4eafaf6e3dec",
   "metadata": {},
   "source": [
    "# Little bit more advanced mapping techniques [Edit Distance]\n",
    "\n",
    "In the other notebook we mapped the concepts of Bouterwek, Eschenburg and Goethe based on a string comparison. When the strings exactly matched we created a `skos:closeMatch`. \n",
    "Obviously this 1:1 string comparison is not really robust. There are cases of spelling variation (\"Äsopische Fabel\"/\"Aesopische Fabel\") that are not matched. There are also multi word expressions which do not match to the single word label of a probably correspondig concept.\n",
    "For these two scenarios we will develop mapping mechanisms:\n",
    "\n",
    "* string containment: we look if a string of concept A is included in the string of concept B and vice versa. This should help identifying candidates where multi-word expressions as the label of a term map to single word terms.\n",
    "* edit distance: we will use levenshtein distance and try to find spelling variations of single term labels.\n",
    "\n",
    "We would probably have to combine these approaches into a matching algorithm at some later stage"
   ]
  },
  {
   "cell_type": "code",
   "execution_count": 1,
   "id": "cb03e3d0-3e9b-49d5-b312-1751f6fc2410",
   "metadata": {},
   "outputs": [
    {
     "name": "stdout",
     "output_type": "stream",
     "text": [
      "bouterwek_terms.json\n",
      "eschenburg_terms.json\n",
      "goethe_dichtarten_terms.json\n"
     ]
    }
   ],
   "source": [
    "!ls out | grep terms"
   ]
  },
  {
   "cell_type": "code",
   "execution_count": 2,
   "id": "6113d59a-f191-450e-aede-76b8a6051bf8",
   "metadata": {},
   "outputs": [],
   "source": [
    "def load_terms(filename:str):\n",
    "    filepath = \"out/\" + filename\n",
    "    \n",
    "    with open(filepath, \"r\") as f:\n",
    "        parsed = json.load(f)\n",
    "\n",
    "    return parsed"
   ]
  },
  {
   "cell_type": "code",
   "execution_count": 3,
   "id": "4f38a746-a42b-439f-ac02-c410bef6a33f",
   "metadata": {},
   "outputs": [],
   "source": [
    "import json\n",
    "# load the terms from file\n",
    "bouterwek_terms = load_terms(\"bouterwek_terms.json\")\n",
    "eschenburg_terms = load_terms(\"eschenburg_terms.json\")\n",
    "goethe_terms = load_terms(\"goethe_dichtarten_terms.json\") # drop the dichtarten in the name!"
   ]
  },
  {
   "cell_type": "markdown",
   "id": "cfab90ff-9d14-4e18-a4ae-fcd52c1e2662",
   "metadata": {},
   "source": [
    "## Edit Distance"
   ]
  },
  {
   "cell_type": "code",
   "execution_count": 4,
   "id": "1ffdc63a-b973-4374-8218-abbf143f7c47",
   "metadata": {},
   "outputs": [],
   "source": [
    "from Levenshtein import distance"
   ]
  },
  {
   "cell_type": "code",
   "execution_count": 5,
   "id": "8a550109-fcce-4afc-b828-ed1d48feaf52",
   "metadata": {},
   "outputs": [
    {
     "data": {
      "text/plain": [
       "2"
      ]
     },
     "execution_count": 5,
     "metadata": {},
     "output_type": "execute_result"
    }
   ],
   "source": [
    "distance(\"Äsopische Fabel\", \"Aesopische Fabel\")"
   ]
  },
  {
   "cell_type": "code",
   "execution_count": 6,
   "id": "59356dfc-7006-4406-b1de-4f123c81cd0f",
   "metadata": {},
   "outputs": [
    {
     "data": {
      "text/plain": [
       "1"
      ]
     },
     "execution_count": 6,
     "metadata": {},
     "output_type": "execute_result"
    }
   ],
   "source": [
    "distance(\"Satire\", \"Satyre\")"
   ]
  },
  {
   "cell_type": "code",
   "execution_count": 7,
   "id": "2135c986-ffde-4847-b6c2-8a5efae4bcfe",
   "metadata": {},
   "outputs": [
    {
     "data": {
      "text/plain": [
       "5"
      ]
     },
     "execution_count": 7,
     "metadata": {},
     "output_type": "execute_result"
    }
   ],
   "source": [
    "distance(\"Sonett\", \"Cantate\")"
   ]
  },
  {
   "cell_type": "code",
   "execution_count": 8,
   "id": "cb445e43-8cdf-4291-8f21-75e1c0b7a665",
   "metadata": {},
   "outputs": [],
   "source": [
    "def match_by_levenshtein_brute_force(terms_1:list, terms_2:list, name_1:str, name_2:str, max_distance:int):\n",
    "    for term_1 in terms_1:\n",
    "        for term_2 in terms_2:\n",
    "            \n",
    "            if term_1[\"label\"] == term_2[\"label\"]:\n",
    "                break\n",
    "                \n",
    "            edit_distance = distance(term_1[\"label\"].lower(), term_2[\"label\"].lower())\n",
    "            \n",
    "            if edit_distance <= max_distance:\n",
    "                print(f\"Term {term_1['label']} ({name_1}) and {term_2['label']} ({name_2}) are mapping candidates\")     "
   ]
  },
  {
   "cell_type": "code",
   "execution_count": 9,
   "id": "8911fb3a-e4c6-4427-84c1-60857b25d626",
   "metadata": {},
   "outputs": [
    {
     "name": "stdout",
     "output_type": "stream",
     "text": [
      "Term Ode (bouterwek) and Oper (eschenburg) are mapping candidates\n",
      "Term Äsopische Fabel (bouterwek) and Aesopische Fabel (eschenburg) are mapping candidates\n"
     ]
    }
   ],
   "source": [
    "match_by_levenshtein_brute_force(bouterwek_terms,eschenburg_terms, \"bouterwek\", \"eschenburg\",2)"
   ]
  },
  {
   "cell_type": "code",
   "execution_count": 10,
   "id": "a6b5f6c2-0100-43ac-b7f4-714c6c5c547e",
   "metadata": {},
   "outputs": [
    {
     "name": "stdout",
     "output_type": "stream",
     "text": [
      "Term Oper (bouterwek) and Ode (goethe) are mapping candidates\n"
     ]
    }
   ],
   "source": [
    "match_by_levenshtein_brute_force(bouterwek_terms,goethe_terms, \"bouterwek\", \"goethe\",2)"
   ]
  },
  {
   "cell_type": "code",
   "execution_count": 11,
   "id": "b2c69dc3-c345-458e-b224-6ffba6f66e0d",
   "metadata": {},
   "outputs": [
    {
     "name": "stdout",
     "output_type": "stream",
     "text": [
      "Term Kantate (eschenburg) and Cantate (goethe) are mapping candidates\n",
      "Term Oper (eschenburg) and Ode (goethe) are mapping candidates\n"
     ]
    }
   ],
   "source": [
    "match_by_levenshtein_brute_force(eschenburg_terms,goethe_terms, \"eschenburg\", \"goethe\",2)"
   ]
  },
  {
   "cell_type": "code",
   "execution_count": 15,
   "id": "d18778a0-40d9-47c5-8ad4-749807c3bf4f",
   "metadata": {},
   "outputs": [],
   "source": [
    "# This needs to be interactive as well\n",
    "def match_by_levenshtein_interactive(terms_1:list, terms_2:list, name_1:str, name_2:str, max_distance:int):\n",
    "    results = []\n",
    "    for term_1 in terms_1:\n",
    "        for term_2 in terms_2:\n",
    "            \n",
    "            if term_1[\"label\"] == term_2[\"label\"]:\n",
    "                break\n",
    "                \n",
    "            edit_distance = distance(term_1[\"label\"].lower(), term_2[\"label\"].lower())\n",
    "            \n",
    "            if edit_distance <= max_distance:\n",
    "\n",
    "                print(f\"Match concepts with labels {term_1['label']} ({name_1}) and {term_2['label']} ({name_2})?\")\n",
    "                user_assesment= input(\"y/n\")\n",
    "                if user_assesment == \"y\":\n",
    "                    print(\"Will create mapping.\\n\")\n",
    "                    true_positive = dict()\n",
    "                    true_positive[\"term1_label\"] = term_1[\"label\"]\n",
    "                    true_positive[\"term2_label\"] = term_2[\"label\"]\n",
    "                    true_positive[\"term1_id\"] = term_1[\"id\"]\n",
    "                    true_positive[\"term2_id\"] = term_2[\"id\"]\n",
    "                    true_positive[\"term1_source\"] = name_1\n",
    "                    true_positive[\"term2_source\"] = name_2\n",
    "                    true_positive[\"user_assesment\"] = user_assesment\n",
    "                    results.append(true_positive)\n",
    "                        \n",
    "                elif user_assesment == \"n\":\n",
    "                    print(\"Will NOT create a mapping.\\n\")\n",
    "                    false_positive = dict()\n",
    "                    false_positive[\"term1_label\"] = term_1[\"label\"]\n",
    "                    false_positive[\"term2_label\"] = term_2[\"label\"]\n",
    "                    false_positive[\"term1_id\"] = term_1[\"id\"]\n",
    "                    false_positive[\"term2_id\"] = term_2[\"id\"]\n",
    "                    false_positive[\"term1_source\"] = name_1\n",
    "                    false_positive[\"term2_source\"] = name_2\n",
    "                    false_positive[\"user_assesment\"] = user_assesment\n",
    "                    results.append(false_positive)\n",
    "                else:\n",
    "                    print(\"Not a valid input. Will resume and don't map.\\n\")\n",
    "        \n",
    "    return results"
   ]
  },
  {
   "cell_type": "code",
   "execution_count": 16,
   "id": "f3ece063-0de1-4cec-b530-c5de5ad7adf7",
   "metadata": {},
   "outputs": [
    {
     "name": "stdout",
     "output_type": "stream",
     "text": [
      "Match concepts with labels Ode (bouterwek) and Oper (eschenburg)?\n"
     ]
    },
    {
     "name": "stdin",
     "output_type": "stream",
     "text": [
      "y/n n\n"
     ]
    },
    {
     "name": "stdout",
     "output_type": "stream",
     "text": [
      "Will NOT create a mapping.\n",
      "\n",
      "Match concepts with labels Äsopische Fabel (bouterwek) and Aesopische Fabel (eschenburg)?\n"
     ]
    },
    {
     "name": "stdin",
     "output_type": "stream",
     "text": [
      "y/n y\n"
     ]
    },
    {
     "name": "stdout",
     "output_type": "stream",
     "text": [
      "Will create mapping.\n",
      "\n"
     ]
    }
   ],
   "source": [
    "bouterwek_eschenburg_matches_by_edit_distance = match_by_levenshtein_interactive(\n",
    "    bouterwek_terms,\n",
    "    eschenburg_terms, \n",
    "    \"bouterwek\", \n",
    "    \"eschenburg\",\n",
    "    2)"
   ]
  },
  {
   "cell_type": "code",
   "execution_count": 17,
   "id": "3e2cf353-a638-4160-b01d-3991bff08a8f",
   "metadata": {},
   "outputs": [
    {
     "data": {
      "text/plain": [
       "[{'term1_label': 'Ode',\n",
       "  'term2_label': 'Oper',\n",
       "  'term1_id': 'https://genre.clscor.io/bouterwek/ode',\n",
       "  'term2_id': 'https://genre.clscor.io/eschenburg/oper',\n",
       "  'term1_source': 'bouterwek',\n",
       "  'term2_source': 'eschenburg',\n",
       "  'user_assesment': 'n'},\n",
       " {'term1_label': 'Äsopische Fabel',\n",
       "  'term2_label': 'Aesopische Fabel',\n",
       "  'term1_id': 'https://genre.clscor.io/bouterwek/aesopische_fabel',\n",
       "  'term2_id': 'https://genre.clscor.io/eschenburg/aesopische_fabel',\n",
       "  'term1_source': 'bouterwek',\n",
       "  'term2_source': 'eschenburg',\n",
       "  'user_assesment': 'y'}]"
      ]
     },
     "execution_count": 17,
     "metadata": {},
     "output_type": "execute_result"
    }
   ],
   "source": [
    "bouterwek_eschenburg_matches_by_edit_distance"
   ]
  },
  {
   "cell_type": "code",
   "execution_count": 18,
   "id": "351fd08d-ba5c-49ae-bec0-3eb7101f2731",
   "metadata": {},
   "outputs": [
    {
     "name": "stdout",
     "output_type": "stream",
     "text": [
      "Match concepts with labels Oper (bouterwek) and Ode (goethe)?\n"
     ]
    },
    {
     "name": "stdin",
     "output_type": "stream",
     "text": [
      "y/n n\n"
     ]
    },
    {
     "name": "stdout",
     "output_type": "stream",
     "text": [
      "Will NOT create a mapping.\n",
      "\n"
     ]
    }
   ],
   "source": [
    "bouterwek_goethe_matches_by_edit_distance = match_by_levenshtein_interactive(\n",
    "    bouterwek_terms,\n",
    "    goethe_terms, \n",
    "    \"bouterwek\", \n",
    "    \"goethe\",\n",
    "    2)"
   ]
  },
  {
   "cell_type": "code",
   "execution_count": 20,
   "id": "2d22203a-4486-483b-a907-59a406f55bd0",
   "metadata": {},
   "outputs": [
    {
     "data": {
      "text/plain": [
       "[{'term1_label': 'Oper',\n",
       "  'term2_label': 'Ode',\n",
       "  'term1_id': 'https://genre.clscor.io/bouterwek/oper',\n",
       "  'term2_id': 'https://genre.clscor.io/goethe/ode',\n",
       "  'term1_source': 'bouterwek',\n",
       "  'term2_source': 'goethe',\n",
       "  'user_assesment': 'n'}]"
      ]
     },
     "execution_count": 20,
     "metadata": {},
     "output_type": "execute_result"
    }
   ],
   "source": [
    "bouterwek_goethe_matches_by_edit_distance"
   ]
  },
  {
   "cell_type": "code",
   "execution_count": 19,
   "id": "92e0732d-9f26-4b9c-bee9-16711b68f924",
   "metadata": {},
   "outputs": [
    {
     "name": "stdout",
     "output_type": "stream",
     "text": [
      "Match concepts with labels Kantate (eschenburg) and Cantate (goethe)?\n"
     ]
    },
    {
     "name": "stdin",
     "output_type": "stream",
     "text": [
      "y/n y\n"
     ]
    },
    {
     "name": "stdout",
     "output_type": "stream",
     "text": [
      "Will create mapping.\n",
      "\n",
      "Match concepts with labels Oper (eschenburg) and Ode (goethe)?\n"
     ]
    },
    {
     "name": "stdin",
     "output_type": "stream",
     "text": [
      "y/n n\n"
     ]
    },
    {
     "name": "stdout",
     "output_type": "stream",
     "text": [
      "Will NOT create a mapping.\n",
      "\n"
     ]
    }
   ],
   "source": [
    "eschenburg_goethe_matches_by_edit_distance = match_by_levenshtein_interactive(\n",
    "    eschenburg_terms,\n",
    "    goethe_terms, \n",
    "    \"eschenburg\", \n",
    "    \"goethe\",\n",
    "    2)"
   ]
  },
  {
   "cell_type": "code",
   "execution_count": 21,
   "id": "b8595b8b-3c14-49f2-a85b-21643224b20c",
   "metadata": {},
   "outputs": [
    {
     "data": {
      "text/plain": [
       "[{'term1_label': 'Kantate',\n",
       "  'term2_label': 'Cantate',\n",
       "  'term1_id': 'https://genre.clscor.io/eschenburg/kantate',\n",
       "  'term2_id': 'https://genre.clscor.io/goethe/cantate',\n",
       "  'term1_source': 'eschenburg',\n",
       "  'term2_source': 'goethe',\n",
       "  'user_assesment': 'y'},\n",
       " {'term1_label': 'Oper',\n",
       "  'term2_label': 'Ode',\n",
       "  'term1_id': 'https://genre.clscor.io/eschenburg/oper',\n",
       "  'term2_id': 'https://genre.clscor.io/goethe/ode',\n",
       "  'term1_source': 'eschenburg',\n",
       "  'term2_source': 'goethe',\n",
       "  'user_assesment': 'n'}]"
      ]
     },
     "execution_count": 21,
     "metadata": {},
     "output_type": "execute_result"
    }
   ],
   "source": [
    "eschenburg_goethe_matches_by_edit_distance"
   ]
  },
  {
   "cell_type": "code",
   "execution_count": null,
   "id": "175e54ea-effa-4cb9-b517-476221f698cf",
   "metadata": {},
   "outputs": [],
   "source": [
    "# bouterwek and goethe do not match at all\n",
    "\n",
    "# for these we need to create the skos\n",
    "#bouterwek_eschenburg_matches_by_edit_distance\n",
    "#eschenburg_goethe_matches_by_edit_distance"
   ]
  },
  {
   "cell_type": "code",
   "execution_count": 22,
   "id": "44d3de55-8e16-4db5-981f-3560c443a59f",
   "metadata": {},
   "outputs": [],
   "source": [
    "from rdflib import Graph, SKOS, URIRef"
   ]
  },
  {
   "cell_type": "code",
   "execution_count": 23,
   "id": "91fca6a6-6243-4068-9796-5f5d71af85de",
   "metadata": {},
   "outputs": [],
   "source": [
    "# Need to create rdf triples and export the graphs\n",
    "def export_close_match_on_levenshtein(matchings:list):\n",
    "    \"\"\"creates the export files\"\"\"\n",
    "    source_1_name = matchings[0][\"term1_source\"]\n",
    "    source_2_name = matchings[0][\"term2_source\"]\n",
    "\n",
    "    g_1 = Graph()\n",
    "    g_2 = Graph()\n",
    "\n",
    "    for item in matchings:\n",
    "        if item[\"user_assesment\"] == \"y\":\n",
    "            # add it to the first graph\n",
    "            g_1.add(( URIRef(item[\"term1_id\"]), SKOS.closeMatch, URIRef(item[\"term2_id\"]) ))\n",
    "\n",
    "            # add the inverse to the second graph\n",
    "            g_2.add(( URIRef(item[\"term2_id\"]), SKOS.closeMatch, URIRef(item[\"term1_id\"]) ))\n",
    "\n",
    "    file_1_name = source_1_name + \"_closeMatch_\" + source_2_name + \"_based_on_levenshtein.ttl\"\n",
    "    g_1.serialize(destination=\"out/\"+file_1_name)\n",
    "    file_2_name = source_2_name + \"_closeMatch_\" + source_1_name + \"_based_on_levenshtein.ttl\"\n",
    "    g_2.serialize(destination=\"out/\"+file_2_name)"
   ]
  },
  {
   "cell_type": "code",
   "execution_count": 24,
   "id": "922a4f3a-3eaa-4240-8d3d-3a5082943a87",
   "metadata": {},
   "outputs": [],
   "source": [
    "export_close_match_on_levenshtein(bouterwek_eschenburg_matches_by_edit_distance)"
   ]
  },
  {
   "cell_type": "code",
   "execution_count": 25,
   "id": "28540cec-2f21-472f-9278-ae6176735651",
   "metadata": {},
   "outputs": [],
   "source": [
    "export_close_match_on_levenshtein(eschenburg_goethe_matches_by_edit_distance)"
   ]
  },
  {
   "cell_type": "code",
   "execution_count": null,
   "id": "d87029ea-f7f6-4162-93ac-8e887e93b844",
   "metadata": {},
   "outputs": [],
   "source": []
  }
 ],
 "metadata": {
  "kernelspec": {
   "display_name": "Python 3 (ipykernel)",
   "language": "python",
   "name": "python3"
  },
  "language_info": {
   "codemirror_mode": {
    "name": "ipython",
    "version": 3
   },
   "file_extension": ".py",
   "mimetype": "text/x-python",
   "name": "python",
   "nbconvert_exporter": "python",
   "pygments_lexer": "ipython3",
   "version": "3.11.3"
  }
 },
 "nbformat": 4,
 "nbformat_minor": 5
}
